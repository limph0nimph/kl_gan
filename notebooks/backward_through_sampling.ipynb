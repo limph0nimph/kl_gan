{
 "cells": [
  {
   "cell_type": "code",
   "execution_count": 2,
   "metadata": {},
   "outputs": [
    {
     "name": "stdout",
     "output_type": "stream",
     "text": [
      "The autoreload extension is already loaded. To reload it, use:\n",
      "  %reload_ext autoreload\n"
     ]
    }
   ],
   "source": [
    "%load_ext autoreload\n",
    "%autoreload 2"
   ]
  },
  {
   "cell_type": "code",
   "execution_count": 2,
   "metadata": {},
   "outputs": [
    {
     "name": "stderr",
     "output_type": "stream",
     "text": [
      "2022-07-08 00:15:18.434451: I tensorflow/stream_executor/platform/default/dso_loader.cc:49] Successfully opened dynamic library libcudart.so.10.1\n"
     ]
    }
   ],
   "source": [
    "from typing import Callable, Dict, Optional, Tuple, Union\n",
    "\n",
    "import numpy as np\n",
    "import torch\n",
    "import yaml\n",
    "from pathlib import Path\n",
    "import seaborn as sns\n",
    "from matplotlib import pyplot as plt\n",
    "\n",
    "##\n",
    "import sys\n",
    "sys.path.append(\"../studiogan\")\n",
    "import studiogan\n",
    "from maxent_gan.models.studiogans import StudioDis, StudioGen\n",
    "##\n",
    "\n",
    "from maxent_gan.utils.general_utils import DotConfig, ROOT_DIR, random_seed\n",
    "from maxent_gan.models.utils import GANWrapper\n",
    "from maxent_gan.distribution import Distribution, DiscriminatorTarget\n",
    "from maxent_gan.mcmc import MCMCRegistry, ula, mala\n",
    "from maxent_gan.utils.train.loss import LossRegistry\n",
    "\n",
    "\n",
    "mcmc = MCMCRegistry()\n",
    "\n",
    "batch_size = 100"
   ]
  },
  {
   "cell_type": "code",
   "execution_count": 3,
   "metadata": {},
   "outputs": [
    {
     "name": "stdout",
     "output_type": "stream",
     "text": [
      "Transform: Normalize(mean=[0.5, 0.5, 0.5], std=[0.5, 0.5, 0.5])\n"
     ]
    }
   ],
   "source": [
    "dataset = 'cifar10'\n",
    "model = 'dcgan'\n",
    "\n",
    "gan_config = yaml.safe_load(Path(ROOT_DIR, f'configs/gan_configs/cifar-10-{model}.yml').open('r'))\n",
    "gan_config = DotConfig(gan_config['gan_config'])\n",
    "\n",
    "device = torch.device(0 if torch.cuda.is_available() else 'cpu')\n",
    "\n",
    "gan = GANWrapper(gan_config, device, eval=False)\n",
    "criterion = LossRegistry.create('JensenNSLoss')\n",
    "ref_dist = DiscriminatorTarget(gan, batch_size=batch_size)"
   ]
  },
  {
   "cell_type": "code",
   "execution_count": 6,
   "metadata": {},
   "outputs": [
    {
     "name": "stderr",
     "output_type": "stream",
     "text": [
      "100%|██████████| 5/5 [00:00<00:00, 16.69it/s]"
     ]
    },
    {
     "name": "stdout",
     "output_type": "stream",
     "text": [
      "tensor([[ 0.0317,  0.0040, -0.0063,  0.0057],\n",
      "        [-0.0671, -0.0086, -0.0076, -0.0040],\n",
      "        [-0.0317, -0.0028, -0.0195,  0.0006],\n",
      "        [-0.0035, -0.0268, -0.0001,  0.0076]], device='cuda:0')\n"
     ]
    },
    {
     "name": "stderr",
     "output_type": "stream",
     "text": [
      "\n"
     ]
    }
   ],
   "source": [
    "# don't keep graph\n",
    "\n",
    "random_seed(42)\n",
    "start = gan.prior.sample((10,))\n",
    "\n",
    "pts, meta = mcmc(\n",
    "            \"mala\",\n",
    "            start,\n",
    "            ref_dist,\n",
    "            gan.prior,\n",
    "            n_samples=1,\n",
    "            burn_in=4,\n",
    "            step_size=0.1,\n",
    "            verbose=True,\n",
    "            keep_graph=False,\n",
    "        )\n",
    "\n",
    "gan.gen.zero_grad()\n",
    "gan.dis.zero_grad()\n",
    "\n",
    "z = pts[-1]\n",
    "z = z.cpu()\n",
    "z = z.to(device)\n",
    "x = gan.gen(z)\n",
    "score = gan.dis(x)\n",
    "loss = criterion(score)\n",
    "loss.backward()\n",
    "print(next(gan.gen.parameters()).grad[0, 0])"
   ]
  },
  {
   "cell_type": "code",
   "execution_count": 7,
   "metadata": {},
   "outputs": [
    {
     "name": "stderr",
     "output_type": "stream",
     "text": [
      "100%|██████████| 5/5 [00:00<00:00, 18.57it/s]"
     ]
    },
    {
     "name": "stdout",
     "output_type": "stream",
     "text": [
      "tensor([[ 0.0317,  0.0040, -0.0063,  0.0057],\n",
      "        [-0.0671, -0.0086, -0.0076, -0.0040],\n",
      "        [-0.0317, -0.0028, -0.0195,  0.0006],\n",
      "        [-0.0035, -0.0268, -0.0001,  0.0076]], device='cuda:0')\n"
     ]
    },
    {
     "name": "stderr",
     "output_type": "stream",
     "text": [
      "\n"
     ]
    }
   ],
   "source": [
    "# keep graph, but detach the latent\n",
    "\n",
    "random_seed(42)\n",
    "start = gan.prior.sample((10,))\n",
    "\n",
    "pts, meta = mcmc(\n",
    "            \"mala\",\n",
    "            start,\n",
    "            ref_dist,\n",
    "            gan.prior,\n",
    "            n_samples=1,\n",
    "            burn_in=4,\n",
    "            step_size=0.1,\n",
    "            verbose=True,\n",
    "            keep_graph=True,\n",
    "        )\n",
    "\n",
    "gan.gen.zero_grad()\n",
    "gan.dis.zero_grad()\n",
    "\n",
    "z = pts[-1].detach()\n",
    "z = z.cpu()\n",
    "z = z.to(device)\n",
    "x = gan.gen(z)\n",
    "score = gan.dis(x)\n",
    "loss = criterion(score)\n",
    "loss.backward()\n",
    "\n",
    "print(next(gan.gen.parameters()).grad[0, 0])"
   ]
  },
  {
   "cell_type": "code",
   "execution_count": 8,
   "metadata": {},
   "outputs": [
    {
     "name": "stderr",
     "output_type": "stream",
     "text": [
      "100%|██████████| 5/5 [00:00<00:00, 19.79it/s]\n"
     ]
    },
    {
     "name": "stdout",
     "output_type": "stream",
     "text": [
      "tensor([[ 0.0538,  0.0057,  0.0025, -0.0018],\n",
      "        [-0.0694,  0.0061,  0.0059,  0.0024],\n",
      "        [-0.0842,  0.0003, -0.0204,  0.0061],\n",
      "        [ 0.0026, -0.0599,  0.0027,  0.0030]], device='cuda:0')\n"
     ]
    }
   ],
   "source": [
    "# keep graph\n",
    "\n",
    "random_seed(42)\n",
    "start = gan.prior.sample((10,))\n",
    "\n",
    "pts, meta = mcmc(\n",
    "            \"mala\",\n",
    "            start,\n",
    "            ref_dist,\n",
    "            gan.prior,\n",
    "            n_samples=1,\n",
    "            burn_in=4,\n",
    "            step_size=0.1,\n",
    "            verbose=True,\n",
    "            keep_graph=True,\n",
    "        )\n",
    "\n",
    "gan.gen.zero_grad()\n",
    "gan.dis.zero_grad()\n",
    "\n",
    "z = pts[-1]\n",
    "z = z.cpu()\n",
    "z = z.to(device)\n",
    "x = gan.gen(z)\n",
    "score = gan.dis(x)\n",
    "loss = criterion(score)\n",
    "loss.backward()\n",
    "\n",
    "print(next(gan.gen.parameters()).grad[0, 0])"
   ]
  },
  {
   "cell_type": "code",
   "execution_count": null,
   "metadata": {},
   "outputs": [],
   "source": []
  },
  {
   "cell_type": "code",
   "execution_count": null,
   "metadata": {},
   "outputs": [],
   "source": []
  },
  {
   "cell_type": "code",
   "execution_count": null,
   "metadata": {},
   "outputs": [],
   "source": []
  }
 ],
 "metadata": {
  "kernelspec": {
   "display_name": "Python 3.8.12 ('soul4')",
   "language": "python",
   "name": "python3"
  },
  "language_info": {
   "codemirror_mode": {
    "name": "ipython",
    "version": 3
   },
   "file_extension": ".py",
   "mimetype": "text/x-python",
   "name": "python",
   "nbconvert_exporter": "python",
   "pygments_lexer": "ipython3",
   "version": "3.8.12"
  },
  "orig_nbformat": 4,
  "vscode": {
   "interpreter": {
    "hash": "178bca306e324e31c3a3b5ac5e68cbefb30375f47c6566422ac974db62a7a08a"
   }
  }
 },
 "nbformat": 4,
 "nbformat_minor": 2
}
