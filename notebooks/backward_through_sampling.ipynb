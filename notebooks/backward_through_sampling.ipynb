{
 "cells": [
  {
   "cell_type": "code",
   "execution_count": 1,
   "metadata": {},
   "outputs": [],
   "source": [
    "%load_ext autoreload\n",
    "%autoreload 2"
   ]
  },
  {
   "cell_type": "code",
   "execution_count": 2,
   "metadata": {},
   "outputs": [
    {
     "name": "stderr",
     "output_type": "stream",
     "text": [
      "2022-07-11 15:10:56.412223: I tensorflow/stream_executor/platform/default/dso_loader.cc:49] Successfully opened dynamic library libcudart.so.10.1\n"
     ]
    }
   ],
   "source": [
    "from typing import Callable, Dict, Optional, Tuple, Union\n",
    "\n",
    "import numpy as np\n",
    "import torch\n",
    "import yaml\n",
    "from pathlib import Path\n",
    "import seaborn as sns\n",
    "from matplotlib import pyplot as plt\n",
    "\n",
    "##\n",
    "import sys\n",
    "sys.path.append(\"../studiogan\")\n",
    "import studiogan\n",
    "from maxent_gan.models.studiogans import StudioDis, StudioGen\n",
    "##\n",
    "\n",
    "from maxent_gan.utils.general_utils import DotConfig, ROOT_DIR, random_seed\n",
    "from maxent_gan.models.utils import GANWrapper\n",
    "from maxent_gan.distribution import Distribution, DiscriminatorTarget\n",
    "from maxent_gan.mcmc import MCMCRegistry, ula, mala\n",
    "from maxent_gan.train.loss import LossRegistry\n",
    "\n",
    "\n",
    "mcmc = MCMCRegistry()\n",
    "\n",
    "batch_size = 32"
   ]
  },
  {
   "cell_type": "code",
   "execution_count": 26,
   "metadata": {},
   "outputs": [
    {
     "name": "stdout",
     "output_type": "stream",
     "text": [
      "Transform: Normalize(mean=[0.5, 0.5, 0.5], std=[0.5, 0.5, 0.5])\n"
     ]
    }
   ],
   "source": [
    "dataset = 'cifar10'\n",
    "model = 'dcgan'\n",
    "\n",
    "gan_config = yaml.safe_load(Path(ROOT_DIR, f'configs/gan_configs/cifar-10-{model}.yml').open('r'))\n",
    "gan_config = DotConfig(gan_config['gan_config'])\n",
    "\n",
    "device = torch.device(0 if torch.cuda.is_available() else 'cpu')\n",
    "\n",
    "gan = GANWrapper(gan_config, device, eval=False)\n",
    "criterion = LossRegistry.create('JensenNSLoss')\n",
    "ref_dist = DiscriminatorTarget(gan, batch_size=batch_size)"
   ]
  },
  {
   "cell_type": "code",
   "execution_count": 27,
   "metadata": {},
   "outputs": [
    {
     "name": "stdout",
     "output_type": "stream",
     "text": [
      "tensor([[-0.0043,  0.0036, -0.0014, -0.0002],\n",
      "        [-0.0695, -0.0025, -0.0022, -0.0017],\n",
      "        [-0.0103, -0.0009, -0.0072,  0.0007],\n",
      "        [ 0.0002,  0.0189,  0.0003,  0.0015]], device='cuda:0')\n"
     ]
    }
   ],
   "source": [
    "def test():\n",
    "    random_seed(42)\n",
    "    start = gan.prior.sample((10,))\n",
    "    pts = [start]\n",
    "    \n",
    "    gan.gen.zero_grad()\n",
    "    gan.dis.zero_grad()\n",
    "\n",
    "    z = pts[-1]\n",
    "    # z = z.cpu()\n",
    "    z = z.to(device)\n",
    "    x = gan.gen(z)\n",
    "    score = gan.dis(x)\n",
    "    loss = criterion(score)\n",
    "    loss.backward()\n",
    "\n",
    "test()\n",
    "print(next(gan.gen.parameters()).grad[0, 0])"
   ]
  },
  {
   "cell_type": "code",
   "execution_count": 28,
   "metadata": {},
   "outputs": [
    {
     "name": "stdout",
     "output_type": "stream",
     "text": [
      "13.2 ms ± 144 µs per loop (mean ± std. dev. of 7 runs, 100 loops each)\n"
     ]
    }
   ],
   "source": [
    "%timeit test()"
   ]
  },
  {
   "cell_type": "code",
   "execution_count": 29,
   "metadata": {},
   "outputs": [
    {
     "name": "stderr",
     "output_type": "stream",
     "text": [
      "100%|██████████| 1/1 [00:00<00:00, 102.60it/s]"
     ]
    },
    {
     "name": "stdout",
     "output_type": "stream",
     "text": [
      "tensor([[ 2.3322e-02,  1.4386e-03,  3.6168e-02,  1.2824e-03],\n",
      "        [ 6.9809e-03,  2.4295e-03,  2.0020e-04,  2.1084e-03],\n",
      "        [ 3.6275e-03,  1.9395e-02,  1.7134e-02,  3.8359e-03],\n",
      "        [-2.9274e-03, -5.6348e-05, -4.6420e-02, -1.7411e-02]], device='cuda:0')\n"
     ]
    },
    {
     "name": "stderr",
     "output_type": "stream",
     "text": [
      "\n"
     ]
    }
   ],
   "source": [
    "# don't keep graph\n",
    "\n",
    "def test(verbose=False):\n",
    "    random_seed(42)\n",
    "    start = gan.prior.sample((10,))\n",
    "\n",
    "    pts, meta = mcmc(\n",
    "                \"ula\",\n",
    "                start,\n",
    "                ref_dist,\n",
    "                gan.prior,\n",
    "                n_samples=1,\n",
    "                burn_in=0, #4,\n",
    "                step_size=0.1,\n",
    "                verbose=verbose,\n",
    "                keep_graph=False,\n",
    "            )\n",
    "\n",
    "    gan.gen.zero_grad()\n",
    "    gan.dis.zero_grad()\n",
    "\n",
    "    z = pts[-1]\n",
    "    # z = z.cpu()\n",
    "    z = z.to(device)\n",
    "    x = gan.gen(z)\n",
    "    score = gan.dis(x)\n",
    "    loss = criterion(score)\n",
    "    loss.backward()\n",
    "\n",
    "test(True)\n",
    "print(next(gan.gen.parameters()).grad[0, 0])"
   ]
  },
  {
   "cell_type": "code",
   "execution_count": 30,
   "metadata": {},
   "outputs": [
    {
     "name": "stdout",
     "output_type": "stream",
     "text": [
      "23 ms ± 23.5 µs per loop (mean ± std. dev. of 7 runs, 10 loops each)\n"
     ]
    }
   ],
   "source": [
    "%timeit test()"
   ]
  },
  {
   "cell_type": "code",
   "execution_count": 31,
   "metadata": {},
   "outputs": [
    {
     "name": "stderr",
     "output_type": "stream",
     "text": [
      "100%|██████████| 1/1 [00:00<00:00, 109.39it/s]"
     ]
    },
    {
     "name": "stdout",
     "output_type": "stream",
     "text": [
      "tensor([[ 2.3322e-02,  1.4387e-03,  3.6168e-02,  1.2823e-03],\n",
      "        [ 6.9809e-03,  2.4295e-03,  2.0027e-04,  2.1084e-03],\n",
      "        [ 3.6276e-03,  1.9395e-02,  1.7134e-02,  3.8360e-03],\n",
      "        [-2.9274e-03, -5.6359e-05, -4.6421e-02, -1.7411e-02]], device='cuda:0')\n"
     ]
    },
    {
     "name": "stderr",
     "output_type": "stream",
     "text": [
      "\n"
     ]
    }
   ],
   "source": [
    "# keep graph, but detach the latent\n",
    "\n",
    "def test(verbose=False):\n",
    "    random_seed(42)\n",
    "    start = gan.prior.sample((10,))\n",
    "\n",
    "    pts, meta = mcmc(\n",
    "                \"ula\",\n",
    "                start,\n",
    "                ref_dist,\n",
    "                gan.prior,\n",
    "                n_samples=1,\n",
    "                burn_in=0, #,\n",
    "                step_size=0.1,\n",
    "                verbose=verbose,\n",
    "                keep_graph=True,\n",
    "            )\n",
    "\n",
    "    gan.gen.zero_grad()\n",
    "    gan.dis.zero_grad()\n",
    "\n",
    "    z = pts[-1].detach()\n",
    "    # z = z.cpu()\n",
    "    z = z.to(device)\n",
    "    x = gan.gen(z)\n",
    "    score = gan.dis(x)\n",
    "    loss = criterion(score)\n",
    "    loss.backward()\n",
    "\n",
    "test(True)\n",
    "print(next(gan.gen.parameters()).grad[0, 0])"
   ]
  },
  {
   "cell_type": "code",
   "execution_count": 32,
   "metadata": {},
   "outputs": [
    {
     "name": "stdout",
     "output_type": "stream",
     "text": [
      "22.5 ms ± 26.6 µs per loop (mean ± std. dev. of 7 runs, 10 loops each)\n"
     ]
    }
   ],
   "source": [
    "%timeit test()"
   ]
  },
  {
   "cell_type": "code",
   "execution_count": 33,
   "metadata": {},
   "outputs": [
    {
     "name": "stderr",
     "output_type": "stream",
     "text": [
      "100%|██████████| 1/1 [00:00<00:00, 116.25it/s]"
     ]
    },
    {
     "name": "stdout",
     "output_type": "stream",
     "text": [
      "tensor([[-0.0218,  0.0145,  0.0209,  0.0265],\n",
      "        [ 0.2115, -0.0253, -0.0253, -0.0046],\n",
      "        [ 0.0988,  0.0197, -0.0153, -0.0073],\n",
      "        [-0.0124, -0.1605, -0.0477,  0.0010]], device='cuda:0')\n"
     ]
    },
    {
     "name": "stderr",
     "output_type": "stream",
     "text": [
      "\n"
     ]
    }
   ],
   "source": [
    "# keep graph\n",
    "\n",
    "def test(verbose=False):\n",
    "    random_seed(42)\n",
    "    start = gan.prior.sample((10,))\n",
    "    gan.gen.zero_grad()\n",
    "    gan.dis.zero_grad()\n",
    "\n",
    "    pts, meta = mcmc(\n",
    "                \"ula\",\n",
    "                start,\n",
    "                ref_dist,\n",
    "                gan.prior,\n",
    "                n_samples=1,\n",
    "                burn_in=0, #4,\n",
    "                step_size=0.1,\n",
    "                verbose=verbose,\n",
    "                keep_graph=True,\n",
    "            )\n",
    "\n",
    "    # gan.gen.zero_grad()\n",
    "    # gan.dis.zero_grad()\n",
    "\n",
    "    z = pts[-1]\n",
    "    # z = z.cpu()\n",
    "    z = z.to(device)\n",
    "    x = gan.gen(z)\n",
    "    score = gan.dis(x)\n",
    "    loss = criterion(score)\n",
    "    loss.backward()\n",
    "\n",
    "test(True)\n",
    "print(next(gan.gen.parameters()).grad[0, 0])"
   ]
  },
  {
   "cell_type": "code",
   "execution_count": 34,
   "metadata": {},
   "outputs": [
    {
     "name": "stdout",
     "output_type": "stream",
     "text": [
      "35.2 ms ± 22.1 µs per loop (mean ± std. dev. of 7 runs, 10 loops each)\n"
     ]
    }
   ],
   "source": [
    "%timeit test()"
   ]
  },
  {
   "cell_type": "code",
   "execution_count": null,
   "metadata": {},
   "outputs": [],
   "source": []
  },
  {
   "cell_type": "code",
   "execution_count": null,
   "metadata": {},
   "outputs": [],
   "source": []
  },
  {
   "cell_type": "code",
   "execution_count": null,
   "metadata": {},
   "outputs": [],
   "source": []
  }
 ],
 "metadata": {
  "kernelspec": {
   "display_name": "Python 3.8.12 ('soul4')",
   "language": "python",
   "name": "python3"
  },
  "language_info": {
   "codemirror_mode": {
    "name": "ipython",
    "version": 3
   },
   "file_extension": ".py",
   "mimetype": "text/x-python",
   "name": "python",
   "nbconvert_exporter": "python",
   "pygments_lexer": "ipython3",
   "version": "3.8.12"
  },
  "orig_nbformat": 4,
  "vscode": {
   "interpreter": {
    "hash": "178bca306e324e31c3a3b5ac5e68cbefb30375f47c6566422ac974db62a7a08a"
   }
  }
 },
 "nbformat": 4,
 "nbformat_minor": 2
}
