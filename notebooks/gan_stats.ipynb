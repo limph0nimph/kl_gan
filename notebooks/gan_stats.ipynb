{
 "cells": [
  {
   "cell_type": "code",
   "execution_count": 1,
   "metadata": {},
   "outputs": [],
   "source": [
    "%load_ext autoreload\n",
    "%autoreload 2"
   ]
  },
  {
   "cell_type": "code",
   "execution_count": 2,
   "metadata": {},
   "outputs": [],
   "source": [
    "from soul_gan.models.utils import load_gan\n",
    "from soul_gan.utils.general_utils import DotConfig\n",
    "\n",
    "import yaml\n",
    "from yaml import Loader\n",
    "from pathlib import Path\n",
    "\n",
    "import torch\n",
    "import seaborn as sns\n",
    "from matplotlib import pyplot as plt\n",
    "\n",
    "from torchvision import transforms"
   ]
  },
  {
   "cell_type": "code",
   "execution_count": 3,
   "metadata": {},
   "outputs": [],
   "source": [
    "gan_config = yaml.load(Path('../configs/gan_configs/dcgan.yml').open('r'), Loader)\n",
    "gan_config = DotConfig(gan_config)"
   ]
  },
  {
   "cell_type": "code",
   "execution_count": 4,
   "metadata": {},
   "outputs": [],
   "source": [
    "device = torch.device(0 if torch.cuda.is_available() else 'cpu')"
   ]
  },
  {
   "cell_type": "code",
   "execution_count": 5,
   "metadata": {},
   "outputs": [],
   "source": [
    "gen, dis = load_gan(gan_config, device=device)"
   ]
  },
  {
   "cell_type": "code",
   "execution_count": 6,
   "metadata": {},
   "outputs": [],
   "source": [
    "def get_dgz_stat(gen, dis, n_images=1000, batch_size=100, device=0):\n",
    "    scores = []\n",
    "    for _ in range(n_images // batch_size):\n",
    "        z = torch.randn(batch_size, gen.z_dim, device=device)\n",
    "        scores.extend(dis(gen(z)).tolist())\n",
    "\n",
    "    return scores"
   ]
  },
  {
   "cell_type": "code",
   "execution_count": 7,
   "metadata": {},
   "outputs": [],
   "source": [
    "scores = get_dgz_stat(gen, dis, device=device)"
   ]
  },
  {
   "cell_type": "code",
   "execution_count": 8,
   "metadata": {},
   "outputs": [
    {
     "data": {
      "image/png": "[encoded data removed]",
      "text/plain": [
       "<Figure size 360x360 with 1 Axes>"
      ]
     },
     "metadata": {
      "needs_background": "light"
     },
     "output_type": "display_data"
    }
   ],
   "source": [
    "sns.displot(scores)\n",
    "\n",
    "plt.title(r'$d(G(z))$')\n",
    "\n",
    "plt.savefig('../figs/gan_stats/dcgan_dgz.png')\n",
    "plt.show()"
   ]
  },
  {
   "cell_type": "code",
   "execution_count": 9,
   "metadata": {},
   "outputs": [
    {
     "data": {
      "image/png": "[encoded data removed]",
      "text/plain": [
       "<Figure size 360x360 with 1 Axes>"
      ]
     },
     "metadata": {
      "needs_background": "light"
     },
     "output_type": "display_data"
    }
   ],
   "source": [
    "sns.displot(torch.sigmoid(torch.FloatTensor(scores)).tolist())\n",
    "\n",
    "plt.title(r'$D(G(z))$')\n",
    "\n",
    "plt.savefig('../figs/gan_stats/dcgan_Dgz.png')\n",
    "plt.show()"
   ]
  },
  {
   "cell_type": "code",
   "execution_count": 10,
   "metadata": {},
   "outputs": [
    {
     "data": {
      "text/plain": [
       "'0.080'"
      ]
     },
     "execution_count": 10,
     "metadata": {},
     "output_type": "execute_result"
    }
   ],
   "source": [
    "f\"{torch.sigmoid(torch.FloatTensor(scores)).mean().item():.3f}\""
   ]
  },
  {
   "cell_type": "code",
   "execution_count": 83,
   "metadata": {},
   "outputs": [],
   "source": [
    "#z = torch.randn(10, gen.z_dim).to(device)\n",
    "x = gen(z)\n",
    "\n",
    "x = (x + 1) / 2\n",
    "x = x.clamp(0, 1)\n"
   ]
  },
  {
   "cell_type": "code",
   "execution_count": 84,
   "metadata": {},
   "outputs": [],
   "source": [
    "# inv_normalize = transforms.Normalize(\n",
    "#     mean=[-0.5/0.5, -0.5/0.5, -0.5/0.5],\n",
    "#     std=[1/0.5, 1/0.5, 1/0.5]\n",
    "# )\n",
    "# x = inv_normalize(x).detach().cpu().numpy()\n",
    "\n",
    "x = x.detach().cpu().numpy()"
   ]
  },
  {
   "cell_type": "code",
   "execution_count": 85,
   "metadata": {},
   "outputs": [
    {
     "data": {
      "text/plain": [
       "<matplotlib.image.AxesImage at 0x7f74e5e0f7f0>"
      ]
     },
     "execution_count": 85,
     "metadata": {},
     "output_type": "execute_result"
    },
    {
     "data": {
      "image/png": "[encoded data removed]",
      "text/plain": [
       "<Figure size 432x288 with 1 Axes>"
      ]
     },
     "metadata": {
      "needs_background": "light"
     },
     "output_type": "display_data"
    }
   ],
   "source": [
    "plt.imshow(x[6].transpose(1, 2, 0))"
   ]
  },
  {
   "cell_type": "code",
   "execution_count": 86,
   "metadata": {},
   "outputs": [
    {
     "data": {
      "text/plain": [
       "array([[[[0.4819952 , 0.55621254, 0.5826526 , ..., 0.7692243 ,\n",
       "          0.778428  , 0.666017  ],\n",
       "         [0.625181  , 0.6275407 , 0.61619705, ..., 0.7136781 ,\n",
       "          0.73277617, 0.6872176 ],\n",
       "         [0.66584975, 0.6600871 , 0.63337696, ..., 0.68685406,\n",
       "          0.68963814, 0.7216382 ],\n",
       "         ...,\n",
       "         [0.6593252 , 0.6472115 , 0.66300756, ..., 0.6247207 ,\n",
       "          0.6315771 , 0.61149156],\n",
       "         [0.656948  , 0.65671366, 0.6608723 , ..., 0.63191915,\n",
       "          0.6206447 , 0.6003248 ],\n",
       "         [0.67137563, 0.65592825, 0.67143244, ..., 0.5864885 ,\n",
       "          0.62294835, 0.6059655 ]],\n",
       "\n",
       "        [[0.43160656, 0.498627  , 0.5357244 , ..., 0.6970288 ,\n",
       "          0.7201431 , 0.621463  ],\n",
       "         [0.54880726, 0.58428067, 0.58186   , ..., 0.6215664 ,\n",
       "          0.6890408 , 0.65597045],\n",
       "         [0.5950586 , 0.6117332 , 0.5757653 , ..., 0.6230091 ,\n",
       "          0.663968  , 0.70452976],\n",
       "         ...,\n",
       "         [0.5804117 , 0.5615805 , 0.56331164, ..., 0.54848427,\n",
       "          0.5472381 , 0.55007076],\n",
       "         [0.57624424, 0.56675625, 0.55711365, ..., 0.5356052 ,\n",
       "          0.5440099 , 0.52657545],\n",
       "         [0.58489466, 0.5875609 , 0.57374763, ..., 0.5247621 ,\n",
       "          0.54283553, 0.5318125 ]],\n",
       "\n",
       "        [[0.43715262, 0.5103027 , 0.5298053 , ..., 0.6517258 ,\n",
       "          0.7086786 , 0.6192257 ],\n",
       "         [0.5261067 , 0.5555141 , 0.5605044 , ..., 0.59604657,\n",
       "          0.62804335, 0.5905029 ],\n",
       "         [0.5459227 , 0.56408435, 0.5363978 , ..., 0.5913803 ,\n",
       "          0.61610794, 0.659886  ],\n",
       "         ...,\n",
       "         [0.47100413, 0.4595974 , 0.4690987 , ..., 0.4622811 ,\n",
       "          0.4599803 , 0.45863587],\n",
       "         [0.47361326, 0.47337398, 0.46853408, ..., 0.45076632,\n",
       "          0.46032882, 0.4574785 ],\n",
       "         [0.50568175, 0.47515467, 0.4703485 , ..., 0.43228954,\n",
       "          0.4569112 , 0.46864688]]],\n",
       "\n",
       "\n",
       "       [[[0.8865781 , 0.8762193 , 0.8470558 , ..., 0.20198852,\n",
       "          0.2102719 , 0.16944116],\n",
       "         [0.9001113 , 0.886533  , 0.85916275, ..., 0.21417224,\n",
       "          0.26053798, 0.25024772],\n",
       "         [0.8863023 , 0.86084294, 0.853173  , ..., 0.24371275,\n",
       "          0.28804255, 0.28909582],\n",
       "         ...,\n",
       "         [0.43688685, 0.40114304, 0.43782365, ..., 0.20214146,\n",
       "          0.21422458, 0.1798065 ],\n",
       "         [0.33922765, 0.3618527 , 0.3865511 , ..., 0.21249652,\n",
       "          0.2088455 , 0.16746145],\n",
       "         [0.32912153, 0.37667066, 0.423993  , ..., 0.18335146,\n",
       "          0.20208597, 0.16656303]],\n",
       "\n",
       "        [[0.87806535, 0.8818966 , 0.850304  , ..., 0.20920476,\n",
       "          0.22572982, 0.18160611],\n",
       "         [0.8917874 , 0.89419734, 0.8475791 , ..., 0.21634692,\n",
       "          0.26768062, 0.23143518],\n",
       "         [0.8901832 , 0.86360973, 0.8608328 , ..., 0.21942663,\n",
       "          0.27185512, 0.26128125],\n",
       "         ...,\n",
       "         [0.4225447 , 0.38855404, 0.43382674, ..., 0.1869387 ,\n",
       "          0.21444485, 0.16290212],\n",
       "         [0.32092583, 0.3461628 , 0.37662876, ..., 0.19395915,\n",
       "          0.20239747, 0.1585682 ],\n",
       "         [0.30245763, 0.33852383, 0.3883663 , ..., 0.17097694,\n",
       "          0.22802174, 0.18381909]],\n",
       "\n",
       "        [[0.9018922 , 0.89726853, 0.8730699 , ..., 0.21493721,\n",
       "          0.23477203, 0.20929271],\n",
       "         [0.9111532 , 0.89192796, 0.85499394, ..., 0.23210242,\n",
       "          0.26760215, 0.27157456],\n",
       "         [0.9004244 , 0.86436796, 0.8612115 , ..., 0.24924755,\n",
       "          0.30002797, 0.29410985],\n",
       "         ...,\n",
       "         [0.43497458, 0.41414583, 0.4483567 , ..., 0.20343366,\n",
       "          0.2066175 , 0.17578238],\n",
       "         [0.33923703, 0.34549886, 0.3806611 , ..., 0.20582187,\n",
       "          0.20201665, 0.15848172],\n",
       "         [0.32147598, 0.37754112, 0.4085791 , ..., 0.19372782,\n",
       "          0.21280056, 0.18135643]]],\n",
       "\n",
       "\n",
       "       [[[0.4383179 , 0.44945717, 0.43498436, ..., 0.5103115 ,\n",
       "          0.521052  , 0.51029235],\n",
       "         [0.5007678 , 0.4936336 , 0.48015064, ..., 0.53272843,\n",
       "          0.54281926, 0.5202706 ],\n",
       "         [0.51587313, 0.5224823 , 0.5124268 , ..., 0.54067636,\n",
       "          0.5590033 , 0.5602119 ],\n",
       "         ...,\n",
       "         [0.47807765, 0.5051469 , 0.54107195, ..., 0.58907974,\n",
       "          0.58637196, 0.5755137 ],\n",
       "         [0.45726755, 0.48449937, 0.49492052, ..., 0.59527594,\n",
       "          0.6042839 , 0.5904041 ],\n",
       "         [0.50446963, 0.48670226, 0.51832086, ..., 0.5497079 ,\n",
       "          0.58750105, 0.5738096 ]],\n",
       "\n",
       "        [[0.39333254, 0.39405432, 0.3994512 , ..., 0.4154914 ,\n",
       "          0.43450275, 0.43126863],\n",
       "         [0.43224165, 0.4151533 , 0.40395862, ..., 0.43816462,\n",
       "          0.45510262, 0.43416095],\n",
       "         [0.43303418, 0.42940158, 0.4356475 , ..., 0.4513339 ,\n",
       "          0.47461173, 0.46290734],\n",
       "         ...,\n",
       "         [0.4212041 , 0.4494499 , 0.48409948, ..., 0.5753236 ,\n",
       "          0.5688297 , 0.57839894],\n",
       "         [0.4111662 , 0.4242761 , 0.44105336, ..., 0.5665314 ,\n",
       "          0.58662933, 0.57678616],\n",
       "         [0.4560355 , 0.44293815, 0.45074862, ..., 0.5435488 ,\n",
       "          0.57923836, 0.58507264]],\n",
       "\n",
       "        [[0.33986247, 0.34499243, 0.33320922, ..., 0.37829894,\n",
       "          0.3723579 , 0.3703621 ],\n",
       "         [0.37046796, 0.36643928, 0.34565815, ..., 0.40113533,\n",
       "          0.38908434, 0.37912223],\n",
       "         [0.367986  , 0.3775411 , 0.38662976, ..., 0.40286088,\n",
       "          0.41418752, 0.41350058],\n",
       "         ...,\n",
       "         [0.3631556 , 0.40255806, 0.44358283, ..., 0.5043105 ,\n",
       "          0.52270484, 0.5171286 ],\n",
       "         [0.3559162 , 0.37872136, 0.39800006, ..., 0.5100038 ,\n",
       "          0.5337514 , 0.5278852 ],\n",
       "         [0.40073842, 0.4012281 , 0.40390128, ..., 0.4754082 ,\n",
       "          0.50799006, 0.5110004 ]]],\n",
       "\n",
       "\n",
       "       ...,\n",
       "\n",
       "\n",
       "       [[[0.6350973 , 0.61271787, 0.61493325, ..., 0.5390393 ,\n",
       "          0.53894013, 0.501659  ],\n",
       "         [0.6587741 , 0.64154387, 0.6433684 , ..., 0.5621456 ,\n",
       "          0.56329507, 0.5563568 ],\n",
       "         [0.63151217, 0.64072806, 0.6477511 , ..., 0.5905284 ,\n",
       "          0.59907067, 0.59130144],\n",
       "         ...,\n",
       "         [0.3501659 , 0.34765452, 0.34144264, ..., 0.27305365,\n",
       "          0.2827341 , 0.2809511 ],\n",
       "         [0.32488453, 0.32619858, 0.32576752, ..., 0.2698087 ,\n",
       "          0.2686746 , 0.28627038],\n",
       "         [0.3321008 , 0.3207691 , 0.33151335, ..., 0.27513736,\n",
       "          0.29764587, 0.30580693]],\n",
       "\n",
       "        [[0.6625951 , 0.6574129 , 0.65869236, ..., 0.5540823 ,\n",
       "          0.5462678 , 0.50332236],\n",
       "         [0.6889646 , 0.6833903 , 0.6689937 , ..., 0.57595694,\n",
       "          0.5826126 , 0.56643134],\n",
       "         [0.696759  , 0.6786691 , 0.6691073 , ..., 0.6069884 ,\n",
       "          0.6233856 , 0.593569  ],\n",
       "         ...,\n",
       "         [0.37694052, 0.3633994 , 0.37058595, ..., 0.30331412,\n",
       "          0.32378694, 0.31696332],\n",
       "         [0.36541563, 0.3608587 , 0.35393786, ..., 0.30237216,\n",
       "          0.3302115 , 0.33742982],\n",
       "         [0.37842873, 0.34889454, 0.36551136, ..., 0.32101983,\n",
       "          0.3261807 , 0.3442616 ]],\n",
       "\n",
       "        [[0.72693115, 0.69659394, 0.70161736, ..., 0.61058295,\n",
       "          0.5959024 , 0.5868035 ],\n",
       "         [0.74886596, 0.7125297 , 0.70051485, ..., 0.61650866,\n",
       "          0.613872  , 0.611309  ],\n",
       "         [0.7312175 , 0.7056876 , 0.68928194, ..., 0.6484897 ,\n",
       "          0.6406591 , 0.64355105],\n",
       "         ...,\n",
       "         [0.39291784, 0.38163847, 0.38411358, ..., 0.38864386,\n",
       "          0.37581947, 0.38868785],\n",
       "         [0.35827294, 0.3722275 , 0.36905825, ..., 0.3791642 ,\n",
       "          0.38042587, 0.407701  ],\n",
       "         [0.37812206, 0.36674213, 0.38420826, ..., 0.36958402,\n",
       "          0.40503046, 0.4304927 ]]],\n",
       "\n",
       "\n",
       "       [[[0.20152274, 0.19598335, 0.20645398, ..., 0.08897084,\n",
       "          0.09435293, 0.09976357],\n",
       "         [0.19140941, 0.19752198, 0.20927101, ..., 0.0947271 ,\n",
       "          0.09458745, 0.08749476],\n",
       "         [0.193053  , 0.19489968, 0.19695109, ..., 0.09343025,\n",
       "          0.08425495, 0.08689407],\n",
       "         ...,\n",
       "         [0.19508371, 0.23213425, 0.18257803, ..., 0.12351203,\n",
       "          0.11131459, 0.10265407],\n",
       "         [0.3284416 , 0.56333095, 0.68614066, ..., 0.28628504,\n",
       "          0.3114825 , 0.28481215],\n",
       "         [0.3671558 , 0.41586116, 0.46854353, ..., 0.63958436,\n",
       "          0.6494669 , 0.5660864 ]],\n",
       "\n",
       "        [[0.22980025, 0.22610742, 0.2470383 , ..., 0.10365307,\n",
       "          0.11953834, 0.10532779],\n",
       "         [0.23521829, 0.23455411, 0.23234025, ..., 0.08653623,\n",
       "          0.10275203, 0.07827204],\n",
       "         [0.2318556 , 0.21906716, 0.21529195, ..., 0.09270924,\n",
       "          0.09572899, 0.08228999],\n",
       "         ...,\n",
       "         [0.20942461, 0.19580498, 0.15932205, ..., 0.11459988,\n",
       "          0.1195567 , 0.108684  ],\n",
       "         [0.3365999 , 0.5363709 , 0.6568563 , ..., 0.26171172,\n",
       "          0.30289206, 0.30196226],\n",
       "         [0.30236793, 0.37220812, 0.35536474, ..., 0.6539318 ,\n",
       "          0.64326054, 0.53249943]],\n",
       "\n",
       "        [[0.39318812, 0.38224468, 0.37613022, ..., 0.127595  ,\n",
       "          0.13461733, 0.16335803],\n",
       "         [0.3833401 , 0.3622545 , 0.36136445, ..., 0.1215865 ,\n",
       "          0.12004241, 0.13301572],\n",
       "         [0.38301453, 0.35875386, 0.34399825, ..., 0.10788876,\n",
       "          0.12302363, 0.12363201],\n",
       "         ...,\n",
       "         [0.45036352, 0.38885435, 0.326967  , ..., 0.23252231,\n",
       "          0.18286562, 0.22486117],\n",
       "         [0.48366714, 0.6759368 , 0.78646994, ..., 0.37485987,\n",
       "          0.4034247 , 0.44089288],\n",
       "         [0.46640956, 0.520667  , 0.49862528, ..., 0.70242345,\n",
       "          0.69506323, 0.730581  ]]],\n",
       "\n",
       "\n",
       "       [[[0.47482294, 0.5361331 , 0.51816326, ..., 0.32722044,\n",
       "          0.3036631 , 0.23846677],\n",
       "         [0.5186755 , 0.5363529 , 0.48344064, ..., 0.29187727,\n",
       "          0.29428247, 0.24933347],\n",
       "         [0.49996004, 0.57686645, 0.5335167 , ..., 0.31702146,\n",
       "          0.33695954, 0.3366552 ],\n",
       "         ...,\n",
       "         [0.35997894, 0.33942544, 0.31227118, ..., 0.38947725,\n",
       "          0.36893284, 0.30003166],\n",
       "         [0.39511484, 0.48144853, 0.43507096, ..., 0.40160847,\n",
       "          0.44587827, 0.35808033],\n",
       "         [0.43276978, 0.45582676, 0.5307794 , ..., 0.33949947,\n",
       "          0.43004704, 0.35506716]],\n",
       "\n",
       "        [[0.48224494, 0.5349169 , 0.53329843, ..., 0.31068864,\n",
       "          0.27614695, 0.23866451],\n",
       "         [0.5213404 , 0.5307561 , 0.49879023, ..., 0.3104424 ,\n",
       "          0.2984975 , 0.27841532],\n",
       "         [0.50790286, 0.56031716, 0.55337745, ..., 0.31189078,\n",
       "          0.3410139 , 0.3468629 ],\n",
       "         ...,\n",
       "         [0.40181896, 0.33067742, 0.29481387, ..., 0.4421919 ,\n",
       "          0.3986734 , 0.33999538],\n",
       "         [0.41223744, 0.44503376, 0.41682744, ..., 0.41811684,\n",
       "          0.480949  , 0.37249824],\n",
       "         [0.41735524, 0.44021156, 0.48772117, ..., 0.393117  ,\n",
       "          0.46758413, 0.3784396 ]],\n",
       "\n",
       "        [[0.3471279 , 0.41662318, 0.37209487, ..., 0.18229851,\n",
       "          0.1875878 , 0.1595015 ],\n",
       "         [0.34966335, 0.40170807, 0.31655392, ..., 0.18748832,\n",
       "          0.18337893, 0.16428423],\n",
       "         [0.35820276, 0.41964188, 0.37011373, ..., 0.21947992,\n",
       "          0.23645121, 0.22289401],\n",
       "         ...,\n",
       "         [0.2177462 , 0.23916289, 0.2310029 , ..., 0.2910964 ,\n",
       "          0.2971478 , 0.23583499],\n",
       "         [0.21466088, 0.27297026, 0.3037278 , ..., 0.29440844,\n",
       "          0.3724178 , 0.27161747],\n",
       "         [0.23711616, 0.24140769, 0.33375913, ..., 0.230833  ,\n",
       "          0.3164395 , 0.25609502]]]], dtype=float32)"
      ]
     },
     "execution_count": 86,
     "metadata": {},
     "output_type": "execute_result"
    }
   ],
   "source": [
    "x"
   ]
  },
  {
   "cell_type": "code",
   "execution_count": null,
   "metadata": {},
   "outputs": [],
   "source": []
  }
 ],
 "metadata": {
  "interpreter": {
   "hash": "a4994e9fdc564a2848e316833596643228b1c722dae5b074343094124342868d"
  },
  "kernelspec": {
   "display_name": "Python 3.8.12 64-bit ('soul': conda)",
   "language": "python",
   "name": "python3"
  },
  "language_info": {
   "codemirror_mode": {
    "name": "ipython",
    "version": 3
   },
   "file_extension": ".py",
   "mimetype": "text/x-python",
   "name": "python",
   "nbconvert_exporter": "python",
   "pygments_lexer": "ipython3",
   "version": "3.8.12"
  },
  "orig_nbformat": 4
 },
 "nbformat": 4,
 "nbformat_minor": 2
}
