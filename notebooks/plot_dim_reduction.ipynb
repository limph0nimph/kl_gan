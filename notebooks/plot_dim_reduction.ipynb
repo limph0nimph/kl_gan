{
 "cells": [
  {
   "cell_type": "code",
   "execution_count": 1,
   "metadata": {},
   "outputs": [],
   "source": [
    "%load_ext autoreload\n",
    "%autoreload 2\n",
    "\n",
    "import numpy as np\n",
    "from pathlib import Path\n",
    "from matplotlib import pyplot as plt\n",
    "import seaborn as sns\n",
    "\n",
    "from maxent_gan.utils.general_utils import ROOT_DIR, DATA_DIR"
   ]
  },
  {
   "cell_type": "code",
   "execution_count": 2,
   "metadata": {},
   "outputs": [],
   "source": [
    "sns.set_theme()"
   ]
  },
  {
   "cell_type": "code",
   "execution_count": 3,
   "metadata": {},
   "outputs": [],
   "source": [
    "import matplotlib.pyplot as plt\n",
    "\n",
    "SMALL_SIZE = 14\n",
    "MEDIUM_SIZE = 16\n",
    "BIGGER_SIZE = 18\n",
    "\n",
    "plt.rc('font', size=SMALL_SIZE)          # controls default text sizes\n",
    "plt.rc('axes', titlesize=MEDIUM_SIZE)     # fontsize of the axes title\n",
    "plt.rc('axes', labelsize=MEDIUM_SIZE)    # fontsize of the x and y labels\n",
    "plt.rc('xtick', labelsize=SMALL_SIZE)    # fontsize of the tick labels\n",
    "plt.rc('ytick', labelsize=SMALL_SIZE)    # fontsize of the tick labels\n",
    "plt.rc('legend', fontsize=SMALL_SIZE)    # legend fontsize\n",
    "plt.rc('lines', linewidth=3)\n",
    "plt.rc('figure', titlesize=BIGGER_SIZE)  # fontsize of the figure title"
   ]
  },
  {
   "cell_type": "code",
   "execution_count": 9,
   "metadata": {},
   "outputs": [],
   "source": [
    "dataset = 'cifar10'\n",
    "#dataset = 'celeba'\n",
    "\n",
    "#method = 'umap'\n",
    "#method = 'tsne' \n",
    "#method = 'pca'\n",
    "\n",
    "methods = ['pca', 'tsne', 'umap']\n",
    "\n",
    "n = 10000\n",
    "exps = [\n",
    "    'dcgan_lips',\n",
    "    # 'wgan_gp_lips',\n",
    "    # 'sngan_ns_lips',\n",
    "    # 'snresnet_lips',\n",
    "    # 'studio_dcgan_lips',\n",
    "    # 'studio_sngan_lips',\n",
    "    # 'studio_sagan_lips',\n",
    "    # 'studio_wgan_gp_lips',\n",
    "]\n",
    "# feature = 'dumb_feature'\n",
    "feature = 'discriminator_feature'"
   ]
  },
  {
   "cell_type": "code",
   "execution_count": 18,
   "metadata": {},
   "outputs": [],
   "source": [
    "def plot_dim_reduction(dataset, method, exp, n=10000, save=False):\n",
    "    model_path = Path(DATA_DIR, dataset, f'{method}.npy')\n",
    "    compressed_data = np.load(model_path)\n",
    "\n",
    "    # plt.scatter(compressed_data[:n, 0], compressed_data[:n, 1], alpha=0.01, label=f'{dataset}')\n",
    "\n",
    "    steps = sorted(list(map(lambda x: int(x.stem.split('_')[0]), Path(ROOT_DIR, 'log', feature, exp, 'dim_reduction').glob(f'*{method}*.npy'))))\n",
    "\n",
    "    for step in steps[::-1]:\n",
    "        model_path = Path(DATA_DIR, dataset, f'{method}.npy')\n",
    "        compressed_data = np.load(model_path)\n",
    "        plt.scatter(compressed_data[:n, 0], compressed_data[:n, 1], alpha=0.01, label=f'{dataset}')\n",
    "\n",
    "        model_path = Path(ROOT_DIR, 'log', feature, exp, 'dim_reduction', f'{step}_{method}.npy')\n",
    "        compressed_data = np.load(model_path)\n",
    "        plt.scatter(compressed_data[:n, 0], compressed_data[:n, 1], alpha=0.01, label=f'{step}')\n",
    "\n",
    "        leg = plt.legend()\n",
    "        for lh in leg.legendHandles: \n",
    "            lh.set_alpha(1)\n",
    "\n",
    "        #handles, labels = plt.legend_elements(prop=\"sizes\", alpha=0.6)\n",
    "        #plt.legend()\n",
    "        #plt.xlim(xlim)\n",
    "        #plt.ylim(ylim)\n",
    "        if save:\n",
    "            savepath =  Path(ROOT_DIR, 'log', feature, exp, 'figs', f'{exp}_{method}_{step}.png')\n",
    "            plt.savefig(savepath)\n",
    "            savepath =  Path(ROOT_DIR, 'log', feature, exp, 'figs', f'{exp}_{method}.pdf')\n",
    "            plt.savefig(savepath)\n",
    "            plt.close()"
   ]
  },
  {
   "cell_type": "code",
   "execution_count": 19,
   "metadata": {},
   "outputs": [],
   "source": [
    "for method in methods:\n",
    "    for exp in exps:\n",
    "        plot_dim_reduction(dataset, method, exp, n, True)"
   ]
  },
  {
   "cell_type": "code",
   "execution_count": 26,
   "metadata": {},
   "outputs": [],
   "source": [
    "# plt.scatter(compressed_data[:n, 0], compressed_data[:n, 1], alpha=0.01, label=f'{dataset}')\n",
    "# #xlim, ylim = plt.xlim(), plt.ylim()\n",
    "\n",
    "# plt.scatter(compressed_data1[:n, 0], compressed_data1[:n, 1], alpha=0.01, label=f'{step1}')\n",
    "\n",
    "# plt.scatter(compressed_data2[:n, 0], compressed_data2[:n, 1], alpha=0.01, label=f'{step2}')\n",
    "\n",
    "# leg = plt.legend()\n",
    "# for lh in leg.legendHandles: \n",
    "#     lh.set_alpha(1)\n",
    "\n",
    "# #handles, labels = plt.legend_elements(prop=\"sizes\", alpha=0.6)\n",
    "# #plt.legend()\n",
    "# #plt.xlim(xlim)\n",
    "# #plt.ylim(ylim)\n",
    "\n",
    "# plt.savefig(f'../figs/dim_reduction/{dataset}_{exp}_{method}.png')"
   ]
  },
  {
   "cell_type": "code",
   "execution_count": 27,
   "metadata": {},
   "outputs": [],
   "source": [
    "# feature = 'dumb_feature'\n",
    "# exp = 'dcgan'\n",
    "\n",
    "# step = 0\n",
    "# model_path = Path(ROOT_DIR, 'log', feature, exp, 'dim_reduction', f'{step}_{method}.npy')\n",
    "# compressed_data1 = np.load(model_path)"
   ]
  },
  {
   "cell_type": "code",
   "execution_count": 28,
   "metadata": {},
   "outputs": [],
   "source": [
    "# plt.scatter(compressed_data[:n, 0], compressed_data[:n, 1], alpha=0.01)\n",
    "# plt.xlim(xlim)\n",
    "# plt.ylim(ylim)\n",
    "# plt.savefig(f'../figs/dim_reduction/{exp}_{method}_{step}.png')"
   ]
  },
  {
   "cell_type": "code",
   "execution_count": 29,
   "metadata": {},
   "outputs": [],
   "source": [
    "# step = 500\n",
    "# model_path = Path(ROOT_DIR, 'log/dumb_feature/dcgan/dim_reduction', f'{step}_{method}.npy')\n",
    "# compressed_data = np.load(model_path)\n"
   ]
  },
  {
   "cell_type": "code",
   "execution_count": 30,
   "metadata": {},
   "outputs": [],
   "source": [
    "# plt.scatter(compressed_data[:n, 0], compressed_data[:n, 1], alpha=0.01)\n",
    "# plt.xlim(xlim)\n",
    "# plt.ylim(ylim)\n",
    "# plt.savefig(f'../figs/dim_reduction/{exp}_{method}_{step}.png')"
   ]
  },
  {
   "cell_type": "code",
   "execution_count": null,
   "metadata": {},
   "outputs": [],
   "source": []
  }
 ],
 "metadata": {
  "interpreter": {
   "hash": "4ea2d8a57f27bd43233272132454accb238a33b1e75d3ecbecd249b301daf972"
  },
  "kernelspec": {
   "display_name": "Python 3.8.12 64-bit ('soul2': conda)",
   "language": "python",
   "name": "python3"
  },
  "language_info": {
   "codemirror_mode": {
    "name": "ipython",
    "version": 3
   },
   "file_extension": ".py",
   "mimetype": "text/x-python",
   "name": "python",
   "nbconvert_exporter": "python",
   "pygments_lexer": "ipython3",
   "version": "3.8.12"
  },
  "orig_nbformat": 4
 },
 "nbformat": 4,
 "nbformat_minor": 2
}
