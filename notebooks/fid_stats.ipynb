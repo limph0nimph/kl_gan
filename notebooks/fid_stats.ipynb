{
 "cells": [
  {
   "cell_type": "code",
   "execution_count": 1,
   "metadata": {},
   "outputs": [],
   "source": [
    "%load_ext autoreload\n",
    "%autoreload 2"
   ]
  },
  {
   "cell_type": "code",
   "execution_count": 2,
   "metadata": {},
   "outputs": [],
   "source": [
    "import torch\n",
    "import torchvision\n",
    "import numpy as np\n",
    "from pathlib import Path \n",
    "\n",
    "from pytorch_fid.inception import InceptionV3\n",
    "\n",
    "from soul_gan.utils.general_utils import IgnoreLabelDataset\n",
    "\n",
    "from soul_gan.utils.metrics.compute_fid import get_activation_statistics"
   ]
  },
  {
   "cell_type": "code",
   "execution_count": 3,
   "metadata": {},
   "outputs": [],
   "source": [
    "batch_size = 100\n",
    "dims = 2048\n",
    "\n",
    "device = torch.device(0)"
   ]
  },
  {
   "cell_type": "code",
   "execution_count": 4,
   "metadata": {},
   "outputs": [
    {
     "name": "stdout",
     "output_type": "stream",
     "text": [
      "\n"
     ]
    }
   ],
   "source": [
    "block_idx = InceptionV3.BLOCK_INDEX_BY_DIM[dims]\n",
    "\n",
    "model = InceptionV3([block_idx]).to(device)\n",
    "model.eval()\n",
    "print()"
   ]
  },
  {
   "cell_type": "code",
   "execution_count": 18,
   "metadata": {},
   "outputs": [],
   "source": [
    "dataset = torchvision.datasets.CIFAR10('../data/cifar10', train=True, transform=torchvision.transforms.ToTensor())\n",
    "dataset = IgnoreLabelDataset(dataset)"
   ]
  },
  {
   "cell_type": "code",
   "execution_count": 19,
   "metadata": {},
   "outputs": [
    {
     "data": {
      "text/plain": [
       "50000"
      ]
     },
     "execution_count": 19,
     "metadata": {},
     "output_type": "execute_result"
    }
   ],
   "source": [
    "len(dataset)"
   ]
  },
  {
   "cell_type": "code",
   "execution_count": 20,
   "metadata": {},
   "outputs": [],
   "source": [
    "mu, sigma, _ = get_activation_statistics(dataset, model, dims=2048, batch_size=100, num_workers=4, device=device)"
   ]
  },
  {
   "cell_type": "code",
   "execution_count": 21,
   "metadata": {},
   "outputs": [],
   "source": [
    "np.savez(Path('../stats/fid_stats_cifar10.npz'), mu=mu, sigma=sigma)"
   ]
  },
  {
   "cell_type": "code",
   "execution_count": 22,
   "metadata": {},
   "outputs": [
    {
     "data": {
      "text/plain": [
       "array([0.09976813, 0.24318884, 0.2982641 , ..., 0.50716566, 0.39214507,\n",
       "       0.64979509])"
      ]
     },
     "execution_count": 22,
     "metadata": {},
     "output_type": "execute_result"
    }
   ],
   "source": [
    "mu"
   ]
  },
  {
   "cell_type": "code",
   "execution_count": 10,
   "metadata": {},
   "outputs": [
    {
     "data": {
      "text/plain": [
       "array([0.09976813, 0.24318884, 0.2982641 , ..., 0.50716566, 0.39214507,\n",
       "       0.64979509])"
      ]
     },
     "execution_count": 10,
     "metadata": {},
     "output_type": "execute_result"
    }
   ],
   "source": [
    "np.load(Path('../stats/fid_stats_cifar10.npz'))['mu']"
   ]
  },
  {
   "cell_type": "code",
   "execution_count": 4,
   "metadata": {},
   "outputs": [],
   "source": [
    "from soul_gan.models.utils import load_gan\n",
    "from soul_gan.utils.general_utils import DotConfig\n",
    "import yaml\n",
    "from yaml import Loader\n",
    "\n",
    "\n",
    "gan_config = '../configs/gan_configs/dcgan.yml'\n",
    "\n",
    "gan_config = DotConfig(\n",
    "    yaml.load(Path(gan_config).open(\"r\"), Loader)\n",
    ")\n",
    "gen, _ = load_gan(gan_config, device)"
   ]
  },
  {
   "cell_type": "code",
   "execution_count": 6,
   "metadata": {},
   "outputs": [],
   "source": [
    "from soul_gan.utils.metrics.compute_fid import calculate_frechet_distance"
   ]
  },
  {
   "cell_type": "code",
   "execution_count": 7,
   "metadata": {},
   "outputs": [],
   "source": [
    "stats = np.load(Path('../stats/fid_stats_cifar10.npz'))\n",
    "real_mu, real_sigma = stats['mu'], stats['sigma']"
   ]
  },
  {
   "cell_type": "code",
   "execution_count": 10,
   "metadata": {},
   "outputs": [],
   "source": [
    "fids = []\n",
    "ns = np.array([5000]) #100, 250, 500, 1000, 5000])\n",
    "for n in ns:\n",
    "    imgs = gen(torch.randn(n, gen.z_dim).to(device))\n",
    "    imgs = gen.inverse_transform(imgs)\n",
    "\n",
    "    dataset = torch.utils.data.TensorDataset(imgs.detach().cpu())\n",
    "    dataset = IgnoreLabelDataset(dataset)\n",
    "    mu, sigma, _ = get_activation_statistics(dataset, model, dims=2048, batch_size=50, num_workers=4, device=device)\n",
    "    fid = calculate_frechet_distance(mu, sigma, real_mu, real_sigma)\n",
    "    fids.append(fid)"
   ]
  },
  {
   "cell_type": "code",
   "execution_count": 11,
   "metadata": {},
   "outputs": [
    {
     "data": {
      "text/plain": [
       "[37.42481709943695]"
      ]
     },
     "execution_count": 11,
     "metadata": {},
     "output_type": "execute_result"
    }
   ],
   "source": [
    "fids"
   ]
  },
  {
   "cell_type": "code",
   "execution_count": 15,
   "metadata": {},
   "outputs": [
    {
     "data": {
      "image/png": "[encoded data removed]",
      "text/plain": [
       "<Figure size 432x288 with 1 Axes>"
      ]
     },
     "metadata": {
      "needs_background": "light"
     },
     "output_type": "display_data"
    }
   ],
   "source": [
    "from matplotlib import pyplot as plt\n",
    "\n",
    "plt.plot(1./ns, fids)\n",
    "plt.show()"
   ]
  },
  {
   "cell_type": "code",
   "execution_count": 16,
   "metadata": {},
   "outputs": [
    {
     "data": {
      "text/plain": [
       "array([0.01  , 0.004 , 0.002 , 0.001 , 0.0002])"
      ]
     },
     "execution_count": 16,
     "metadata": {},
     "output_type": "execute_result"
    }
   ],
   "source": [
    "1./ns"
   ]
  },
  {
   "cell_type": "code",
   "execution_count": 4,
   "metadata": {},
   "outputs": [
    {
     "data": {
      "text/plain": [
       "'0.11.1+cu102'"
      ]
     },
     "execution_count": 4,
     "metadata": {},
     "output_type": "execute_result"
    }
   ],
   "source": [
    "torchvision.__version__"
   ]
  },
  {
   "cell_type": "code",
   "execution_count": 17,
   "metadata": {},
   "outputs": [
    {
     "name": "stdout",
     "output_type": "stream",
     "text": [
      "\n"
     ]
    }
   ],
   "source": [
    "model = torchvision.models.efficientnet_b3(pretrained=True).to(device)\n",
    "model.eval()\n",
    "print()"
   ]
  },
  {
   "cell_type": "code",
   "execution_count": 18,
   "metadata": {},
   "outputs": [],
   "source": [
    "activation = {}\n",
    "def get_activation(name):\n",
    "    def hook(model, input, output):\n",
    "        activation['avg_pool'] = output.detach()\n",
    "    return hook\n",
    "model.avgpool.register_forward_hook(get_activation('avgpool'))\n",
    "\n",
    "def wrapped_model(x):\n",
    "    model(x)\n",
    "    return [activation['avg_pool']]"
   ]
  },
  {
   "cell_type": "code",
   "execution_count": 22,
   "metadata": {},
   "outputs": [
    {
     "data": {
      "text/plain": [
       "torch.Size([100, 1536, 1, 1])"
      ]
     },
     "execution_count": 22,
     "metadata": {},
     "output_type": "execute_result"
    }
   ],
   "source": [
    "activation['avg_pool'].shape"
   ]
  },
  {
   "cell_type": "code",
   "execution_count": 19,
   "metadata": {},
   "outputs": [],
   "source": [
    "dataset = torchvision.datasets.CIFAR10('../data/cifar10', train=True, transform=torchvision.transforms.ToTensor())\n",
    "dataset = IgnoreLabelDataset(dataset)"
   ]
  },
  {
   "cell_type": "code",
   "execution_count": 23,
   "metadata": {},
   "outputs": [],
   "source": [
    "mu, sigma, _ = get_activation_statistics(dataset, wrapped_model, dims=1536, batch_size=100, num_workers=4, device=device)"
   ]
  },
  {
   "cell_type": "code",
   "execution_count": 24,
   "metadata": {},
   "outputs": [],
   "source": [
    "np.savez(Path('../stats/efficientnet_b3_stats_cifar10.npz'), mu=mu, sigma=sigma)"
   ]
  },
  {
   "cell_type": "code",
   "execution_count": null,
   "metadata": {},
   "outputs": [],
   "source": []
  }
 ],
 "metadata": {
  "interpreter": {
   "hash": "a4994e9fdc564a2848e316833596643228b1c722dae5b074343094124342868d"
  },
  "kernelspec": {
   "display_name": "Python 3.8.12 64-bit ('soul': conda)",
   "language": "python",
   "name": "python3"
  },
  "language_info": {
   "codemirror_mode": {
    "name": "ipython",
    "version": 3
   },
   "file_extension": ".py",
   "mimetype": "text/x-python",
   "name": "python",
   "nbconvert_exporter": "python",
   "pygments_lexer": "ipython3",
   "version": "3.8.12"
  },
  "orig_nbformat": 4
 },
 "nbformat": 4,
 "nbformat_minor": 2
}
