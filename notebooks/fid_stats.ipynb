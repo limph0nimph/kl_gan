{
 "cells": [
  {
   "cell_type": "code",
   "execution_count": 1,
   "metadata": {},
   "outputs": [],
   "source": [
    "%load_ext autoreload\n",
    "%autoreload 2"
   ]
  },
  {
   "cell_type": "code",
   "execution_count": 2,
   "metadata": {},
   "outputs": [
    {
     "name": "stdout",
     "output_type": "stream",
     "text": [
      "WARNING:tensorflow:From /home/lagutin/anaconda3/envs/soul2/lib/python3.8/site-packages/tensorflow/python/compat/v2_compat.py:96: disable_resource_variables (from tensorflow.python.ops.variable_scope) is deprecated and will be removed in a future version.\n",
      "Instructions for updating:\n",
      "non-resource variables are not supported in the long term\n"
     ]
    }
   ],
   "source": [
    "import torch\n",
    "import torchvision\n",
    "import numpy as np\n",
    "from pathlib import Path \n",
    "\n",
    "from pytorch_fid.inception import InceptionV3\n",
    "\n",
    "from soul_gan.utils.general_utils import IgnoreLabelDataset\n",
    "# from soul_gan.utils.metrics.compute_fid import get_activation_statistics\n",
    "# from soul_gan.utils.metrics.compute_fid import calculate_frechet_distance\n",
    "from soul_gan.utils.metrics.compute_fid_tf import _handle_path, get_activation_statistics"
   ]
  },
  {
   "cell_type": "code",
   "execution_count": 3,
   "metadata": {},
   "outputs": [],
   "source": [
    "batch_size = 100\n",
    "dims = 2048\n",
    "\n",
    "device = torch.device(1)"
   ]
  },
  {
   "cell_type": "code",
   "execution_count": 4,
   "metadata": {},
   "outputs": [],
   "source": [
    "# block_idx = InceptionV3.BLOCK_INDEX_BY_DIM[dims]\n",
    "\n",
    "# model = InceptionV3().to(device)\n",
    "# model.eval()\n",
    "# print()"
   ]
  },
  {
   "cell_type": "code",
   "execution_count": 5,
   "metadata": {},
   "outputs": [],
   "source": [
    "dataset_name = 'celeba'"
   ]
  },
  {
   "cell_type": "code",
   "execution_count": 6,
   "metadata": {},
   "outputs": [],
   "source": [
    "# dataset = torchvision.datasets.CIFAR10('../data/cifar10', train=True, transform=torchvision.transforms.ToTensor())\n",
    "# dataset = IgnoreLabelDataset(dataset)\n",
    "\n",
    "from soul_gan.datasets.utils import get_dataset\n",
    "\n",
    "dataset = get_dataset(dataset_name, mean=(0,0,0), std=(1,1,1))"
   ]
  },
  {
   "cell_type": "code",
   "execution_count": 7,
   "metadata": {},
   "outputs": [],
   "source": [
    "dataset = torch.stack([batch for batch in dataset], 0).numpy()"
   ]
  },
  {
   "cell_type": "code",
   "execution_count": 8,
   "metadata": {},
   "outputs": [
    {
     "data": {
      "text/plain": [
       "(202599, 3, 64, 64)"
      ]
     },
     "execution_count": 8,
     "metadata": {},
     "output_type": "execute_result"
    }
   ],
   "source": [
    "dataset.shape"
   ]
  },
  {
   "cell_type": "code",
   "execution_count": 9,
   "metadata": {},
   "outputs": [
    {
     "data": {
      "text/plain": [
       "array([[[0.827451  , 0.827451  , 0.827451  , ..., 0.8235294 ,\n",
       "         0.81960785, 0.827451  ],\n",
       "        [0.8235294 , 0.8235294 , 0.8235294 , ..., 0.8235294 ,\n",
       "         0.81960785, 0.827451  ],\n",
       "        [0.74509805, 0.7529412 , 0.75686276, ..., 0.8235294 ,\n",
       "         0.8235294 , 0.8235294 ],\n",
       "        ...,\n",
       "        [0.12941177, 0.1254902 , 0.12156863, ..., 0.45882353,\n",
       "         0.4392157 , 0.40784314],\n",
       "        [0.3372549 , 0.33333334, 0.32941177, ..., 0.4627451 ,\n",
       "         0.46666667, 0.4627451 ],\n",
       "        [0.3764706 , 0.3764706 , 0.3764706 , ..., 0.4627451 ,\n",
       "         0.46666667, 0.46666667]],\n",
       "\n",
       "       [[0.79607844, 0.79607844, 0.79607844, ..., 0.83137256,\n",
       "         0.83137256, 0.8352941 ],\n",
       "        [0.8       , 0.8       , 0.8       , ..., 0.83137256,\n",
       "         0.83137256, 0.8352941 ],\n",
       "        [0.7254902 , 0.73333335, 0.7372549 , ..., 0.83137256,\n",
       "         0.8352941 , 0.83137256],\n",
       "        ...,\n",
       "        [0.17254902, 0.16470589, 0.16078432, ..., 0.40392157,\n",
       "         0.4       , 0.34901962],\n",
       "        [0.40784314, 0.40392157, 0.4       , ..., 0.4117647 ,\n",
       "         0.40784314, 0.39607844],\n",
       "        [0.44705883, 0.44705883, 0.4509804 , ..., 0.42352942,\n",
       "         0.41568628, 0.41568628]],\n",
       "\n",
       "       [[0.78431374, 0.78431374, 0.78431374, ..., 0.827451  ,\n",
       "         0.827451  , 0.8235294 ],\n",
       "        [0.78431374, 0.78431374, 0.78431374, ..., 0.827451  ,\n",
       "         0.827451  , 0.8235294 ],\n",
       "        [0.70980394, 0.7176471 , 0.72156864, ..., 0.8235294 ,\n",
       "         0.827451  , 0.81960785],\n",
       "        ...,\n",
       "        [0.18039216, 0.1764706 , 0.17254902, ..., 0.3647059 ,\n",
       "         0.34901962, 0.30588236],\n",
       "        [0.42745098, 0.42352942, 0.42352942, ..., 0.38039216,\n",
       "         0.3764706 , 0.3529412 ],\n",
       "        [0.48235294, 0.4862745 , 0.4862745 , ..., 0.4       ,\n",
       "         0.3882353 , 0.3764706 ]]], dtype=float32)"
      ]
     },
     "execution_count": 9,
     "metadata": {},
     "output_type": "execute_result"
    }
   ],
   "source": [
    "dataset[0]"
   ]
  },
  {
   "cell_type": "code",
   "execution_count": 10,
   "metadata": {},
   "outputs": [],
   "source": [
    "np.save(f'../data/{dataset_name}/np_data.npy', dataset)"
   ]
  },
  {
   "cell_type": "code",
   "execution_count": 11,
   "metadata": {},
   "outputs": [],
   "source": [
    "m, s = get_activation_statistics(f'../data/{dataset_name}/np_data.npy', inception_path=\"../thirdparty/TTUR/inception_model\",)"
   ]
  },
  {
   "cell_type": "code",
   "execution_count": 12,
   "metadata": {},
   "outputs": [],
   "source": [
    "np.savez(Path(f'../stats/fid_stats_{dataset_name}.npz'), mu=m, sigma=s)"
   ]
  },
  {
   "cell_type": "code",
   "execution_count": 13,
   "metadata": {},
   "outputs": [
    {
     "data": {
      "text/plain": [
       "array([0.30027294, 0.16524758, 0.31845804, ..., 0.27554868, 0.16838862,\n",
       "       0.39572428])"
      ]
     },
     "execution_count": 13,
     "metadata": {},
     "output_type": "execute_result"
    }
   ],
   "source": [
    "m"
   ]
  },
  {
   "cell_type": "code",
   "execution_count": 10,
   "metadata": {},
   "outputs": [],
   "source": [
    "stats = np.load('../stats/cifar10.train.npz')\n",
    "real_mu, real_sigma = stats[\"mu\"], stats[\"sigma\"]"
   ]
  },
  {
   "cell_type": "code",
   "execution_count": 7,
   "metadata": {},
   "outputs": [
    {
     "data": {
      "text/plain": [
       "array([0.09992834, 0.24279208, 0.3012676 , ..., 0.49936464, 0.3923263 ,\n",
       "       0.65198045])"
      ]
     },
     "execution_count": 7,
     "metadata": {},
     "output_type": "execute_result"
    }
   ],
   "source": [
    "real_mu"
   ]
  },
  {
   "cell_type": "code",
   "execution_count": 8,
   "metadata": {},
   "outputs": [
    {
     "data": {
      "text/plain": [
       "array([0.30027294, 0.16524758, 0.31845804, ..., 0.27554868, 0.16838862,\n",
       "       0.39572428])"
      ]
     },
     "execution_count": 8,
     "metadata": {},
     "output_type": "execute_result"
    }
   ],
   "source": [
    "np.load(Path(f'../stats/fid_stats_{dataset_name}.npz'))['mu']"
   ]
  },
  {
   "cell_type": "code",
   "execution_count": 5,
   "metadata": {},
   "outputs": [],
   "source": [
    "from soul_gan.models.utils import load_gan\n",
    "from soul_gan.utils.general_utils import DotConfig\n",
    "import yaml\n",
    "from yaml import Loader\n",
    "\n",
    "\n",
    "gan_config = '../configs/gan_configs/cifar-10-snresnet.yml' #dcgan.yml'\n",
    "\n",
    "gan_config = DotConfig(\n",
    "    yaml.load(Path(gan_config).open(\"r\"), Loader)\n",
    ")\n",
    "gen, _ = load_gan(gan_config, device)\n",
    "# gen.eval()\n",
    "pass"
   ]
  },
  {
   "cell_type": "code",
   "execution_count": 6,
   "metadata": {},
   "outputs": [],
   "source": [
    "stats = np.load(Path('../stats/fid_stats_cifar10.npz'))\n",
    "real_mu, real_sigma = stats['mu'], stats['sigma']"
   ]
  },
  {
   "cell_type": "code",
   "execution_count": 15,
   "metadata": {},
   "outputs": [
    {
     "data": {
      "text/plain": [
       "MultivariateNormal(loc: torch.Size([128]), covariance_matrix: torch.Size([128, 128]))"
      ]
     },
     "execution_count": 15,
     "metadata": {},
     "output_type": "execute_result"
    }
   ],
   "source": [
    "gen.prior"
   ]
  },
  {
   "cell_type": "code",
   "execution_count": 7,
   "metadata": {},
   "outputs": [
    {
     "name": "stderr",
     "output_type": "stream",
     "text": [
      "100%|██████████| 50/50 [00:15<00:00,  3.27it/s]\n",
      "100%|██████████| 250/250 [01:45<00:00,  2.36it/s]\n"
     ]
    }
   ],
   "source": [
    "from tqdm import  trange\n",
    "\n",
    "fids = []\n",
    "ns = np.array([50000]) #100, 250, 500, 1000, 5000])\n",
    "batch_size = 1000\n",
    "for n in ns:\n",
    "    imgs = []\n",
    "    for _ in trange(n // batch_size):\n",
    "        with torch.no_grad():\n",
    "            # z = torch.rand(batch_size, gen.z_dim).to(device)*2 - 1\n",
    "            z = torch.randn(batch_size, gen.z_dim).to(device)\n",
    "            imgs_ = gen(z).detach().cpu()\n",
    "            imgs_ = gen.inverse_transform(imgs_).detach().cpu()\n",
    "        imgs.append(imgs_)\n",
    "    imgs = torch.cat(imgs, 0)\n",
    "\n",
    "    dataset = torch.utils.data.TensorDataset(imgs.detach().cpu())\n",
    "    dataset = IgnoreLabelDataset(dataset)\n",
    "    mu_, sigma_, _ = get_activation_statistics(dataset, model, dims=2048, batch_size=200, num_workers=1, device=device, verbose=True)\n",
    "    fid = calculate_frechet_distance(mu_, sigma_, real_mu, real_sigma)\n",
    "    fids.append(fid)"
   ]
  },
  {
   "cell_type": "code",
   "execution_count": 8,
   "metadata": {},
   "outputs": [
    {
     "data": {
      "text/plain": [
       "array([0.09976813, 0.24318884, 0.2982641 , ..., 0.50716566, 0.39214507,\n",
       "       0.64979509])"
      ]
     },
     "execution_count": 8,
     "metadata": {},
     "output_type": "execute_result"
    }
   ],
   "source": [
    "real_mu"
   ]
  },
  {
   "cell_type": "code",
   "execution_count": 9,
   "metadata": {},
   "outputs": [
    {
     "data": {
      "text/plain": [
       "array([0.10315059, 0.24553338, 0.31235492, ..., 0.54658492, 0.39007485,\n",
       "       0.67445933])"
      ]
     },
     "execution_count": 9,
     "metadata": {},
     "output_type": "execute_result"
    }
   ],
   "source": [
    "mu_"
   ]
  },
  {
   "cell_type": "code",
   "execution_count": 10,
   "metadata": {},
   "outputs": [
    {
     "data": {
      "text/plain": [
       "[15.757999934546092]"
      ]
     },
     "execution_count": 10,
     "metadata": {},
     "output_type": "execute_result"
    }
   ],
   "source": [
    "fids"
   ]
  },
  {
   "cell_type": "code",
   "execution_count": 12,
   "metadata": {},
   "outputs": [
    {
     "data": {
      "text/plain": [
       "torch.Size([3, 32, 32])"
      ]
     },
     "execution_count": 12,
     "metadata": {},
     "output_type": "execute_result"
    }
   ],
   "source": [
    "imgs[0].shape"
   ]
  },
  {
   "cell_type": "code",
   "execution_count": 14,
   "metadata": {},
   "outputs": [
    {
     "data": {
      "text/plain": [
       "<matplotlib.image.AxesImage at 0x7f4990777c70>"
      ]
     },
     "execution_count": 14,
     "metadata": {},
     "output_type": "execute_result"
    },
    {
     "data": {
      "image/png": "[encoded data removed]",
      "text/plain": [
       "<Figure size 432x288 with 1 Axes>"
      ]
     },
     "metadata": {
      "needs_background": "light"
     },
     "output_type": "display_data"
    }
   ],
   "source": [
    "from matplotlib import pyplot as plt\n",
    "\n",
    "plt.imshow(imgs[56].detach().cpu().numpy().transpose(1, 2, 0))"
   ]
  },
  {
   "cell_type": "code",
   "execution_count": 15,
   "metadata": {},
   "outputs": [
    {
     "data": {
      "image/png": "[encoded data removed]",
      "text/plain": [
       "<Figure size 432x288 with 1 Axes>"
      ]
     },
     "metadata": {
      "needs_background": "light"
     },
     "output_type": "display_data"
    }
   ],
   "source": [
    "from matplotlib import pyplot as plt\n",
    "\n",
    "plt.plot(1./ns, fids)\n",
    "plt.show()"
   ]
  },
  {
   "cell_type": "code",
   "execution_count": 16,
   "metadata": {},
   "outputs": [
    {
     "data": {
      "text/plain": [
       "array([0.01  , 0.004 , 0.002 , 0.001 , 0.0002])"
      ]
     },
     "execution_count": 16,
     "metadata": {},
     "output_type": "execute_result"
    }
   ],
   "source": [
    "1./ns"
   ]
  },
  {
   "cell_type": "code",
   "execution_count": 4,
   "metadata": {},
   "outputs": [
    {
     "data": {
      "text/plain": [
       "'0.11.1+cu102'"
      ]
     },
     "execution_count": 4,
     "metadata": {},
     "output_type": "execute_result"
    }
   ],
   "source": [
    "torchvision.__version__"
   ]
  },
  {
   "cell_type": "code",
   "execution_count": 17,
   "metadata": {},
   "outputs": [
    {
     "name": "stdout",
     "output_type": "stream",
     "text": [
      "\n"
     ]
    }
   ],
   "source": [
    "model = torchvision.models.efficientnet_b3(pretrained=True).to(device)\n",
    "model.eval()\n",
    "print()"
   ]
  },
  {
   "cell_type": "code",
   "execution_count": 18,
   "metadata": {},
   "outputs": [],
   "source": [
    "activation = {}\n",
    "def get_activation(name):\n",
    "    def hook(model, input, output):\n",
    "        activation['avg_pool'] = output.detach()\n",
    "    return hook\n",
    "model.avgpool.register_forward_hook(get_activation('avgpool'))\n",
    "\n",
    "def wrapped_model(x):\n",
    "    model(x)\n",
    "    return [activation['avg_pool']]"
   ]
  },
  {
   "cell_type": "code",
   "execution_count": 22,
   "metadata": {},
   "outputs": [
    {
     "data": {
      "text/plain": [
       "torch.Size([100, 1536, 1, 1])"
      ]
     },
     "execution_count": 22,
     "metadata": {},
     "output_type": "execute_result"
    }
   ],
   "source": [
    "activation['avg_pool'].shape"
   ]
  },
  {
   "cell_type": "code",
   "execution_count": 19,
   "metadata": {},
   "outputs": [],
   "source": [
    "dataset = torchvision.datasets.CIFAR10('../data/cifar10', train=True, transform=torchvision.transforms.ToTensor())\n",
    "dataset = IgnoreLabelDataset(dataset)"
   ]
  },
  {
   "cell_type": "code",
   "execution_count": 23,
   "metadata": {},
   "outputs": [],
   "source": [
    "mu, sigma, _ = get_activation_statistics(dataset, wrapped_model, dims=1536, batch_size=100, num_workers=4, device=device)"
   ]
  },
  {
   "cell_type": "code",
   "execution_count": 24,
   "metadata": {},
   "outputs": [],
   "source": [
    "np.savez(Path('../stats/efficientnet_b3_stats_cifar10.npz'), mu=mu, sigma=sigma)"
   ]
  },
  {
   "cell_type": "code",
   "execution_count": null,
   "metadata": {},
   "outputs": [],
   "source": []
  }
 ],
 "metadata": {
  "interpreter": {
   "hash": "a4994e9fdc564a2848e316833596643228b1c722dae5b074343094124342868d"
  },
  "kernelspec": {
   "display_name": "Python 3.8.12 64-bit ('soul': conda)",
   "language": "python",
   "name": "python3"
  },
  "language_info": {
   "codemirror_mode": {
    "name": "ipython",
    "version": 3
   },
   "file_extension": ".py",
   "mimetype": "text/x-python",
   "name": "python",
   "nbconvert_exporter": "python",
   "pygments_lexer": "ipython3",
   "version": "3.8.12"
  },
  "orig_nbformat": 4
 },
 "nbformat": 4,
 "nbformat_minor": 2
}
