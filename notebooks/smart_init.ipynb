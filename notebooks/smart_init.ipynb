{
 "cells": [
  {
   "cell_type": "code",
   "execution_count": 1,
   "metadata": {},
   "outputs": [
    {
     "name": "stderr",
     "output_type": "stream",
     "text": [
      "2022-04-18 15:33:10.582904: I tensorflow/stream_executor/platform/default/dso_loader.cc:49] Successfully opened dynamic library libcudart.so.10.1\n"
     ]
    }
   ],
   "source": [
    "%load_ext autoreload\n",
    "%autoreload 2\n",
    "\n",
    "from pathlib import Path\n",
    "import ruamel.yaml as yaml\n",
    "import torch\n",
    "from torch.optim import Adam\n",
    "from torch.utils.data import DataLoader\n",
    "import subprocess\n",
    "import datetime\n",
    "import sys\n",
    "import numpy as np\n",
    "import logging\n",
    "\n",
    "sys.path.append(\"../studiogan\")\n",
    "\n",
    "from maxent_gan.utils.train.trainer import Trainer\n",
    "from maxent_gan.utils.train.loss import LossRegistry\n",
    "from maxent_gan.utils.general_utils import DotConfig, random_seed, seed_worker, ROOT_DIR\n",
    "from maxent_gan.feature.utils import create_feature\n",
    "from maxent_gan.models.utils import GANWrapper\n",
    "from maxent_gan.sample import MaxEntSampler\n",
    "from maxent_gan.distribution import DistributionRegistry\n",
    "from maxent_gan.utils.callbacks import CallbackRegistry\n",
    "from maxent_gan.datasets.utils import get_dataset"
   ]
  },
  {
   "cell_type": "code",
   "execution_count": 2,
   "metadata": {},
   "outputs": [],
   "source": [
    "# import sys\n",
    "# sys.path.append('..')"
   ]
  },
  {
   "cell_type": "code",
   "execution_count": 3,
   "metadata": {},
   "outputs": [],
   "source": [
    "from easydict import EasyDict as edict\n",
    "\n",
    "args = edict()\n",
    "\n",
    "configs = ['configs/exp_configs/mlp-cmd.yml', 'configs/targets/prior.yml', 'configs/gan_configs/ring-mlp.yml', 'configs/feature_configs/cmd_2d.yml', 'configs/train_2d_iw.yml']\n",
    "configs = [Path(ROOT_DIR, x).as_posix() for x in configs]\n",
    "args.configs = configs"
   ]
  },
  {
   "cell_type": "code",
   "execution_count": 4,
   "metadata": {},
   "outputs": [],
   "source": [
    "params = yaml.round_trip_load(Path(args.configs[0]).open(\"r\"))"
   ]
  },
  {
   "cell_type": "code",
   "execution_count": 5,
   "metadata": {},
   "outputs": [],
   "source": [
    "proc = subprocess.Popen(\"/bin/bash\", stdin=subprocess.PIPE, stdout=subprocess.PIPE)\n",
    "out, err = proc.communicate(\n",
    "    (\n",
    "        \" \".join(\n",
    "            [\n",
    "                \"echo\",\n",
    "                '\"' + str(yaml.round_trip_dump(params)) + '\"',\n",
    "                \"|\",\n",
    "                \"cat - \",\n",
    "                *args.configs[1:],\n",
    "            ]\n",
    "        )\n",
    "    ).encode(\"utf-8\")\n",
    ")\n",
    "config = yaml.round_trip_load(out.decode(\"utf-8\"))\n",
    "config = DotConfig(config)"
   ]
  },
  {
   "cell_type": "code",
   "execution_count": 6,
   "metadata": {},
   "outputs": [],
   "source": [
    "gan = GANWrapper(config.gan_config, device=config.device, load_weights=False)"
   ]
  },
  {
   "cell_type": "code",
   "execution_count": 7,
   "metadata": {},
   "outputs": [],
   "source": [
    "dataset_stuff = get_dataset(\n",
    "        config.gan_config.dataset.name,\n",
    "        mean=config.gan_config.train_transform.Normalize.mean,\n",
    "        std=config.gan_config.train_transform.Normalize.std,\n",
    "        seed=config.seed,\n",
    "        **config.gan_config.dataset.params,\n",
    "    )\n",
    "dataset = dataset_stuff[\"dataset\"]\n",
    "\n",
    "dataloader = DataLoader(\n",
    "    dataset, \n",
    "    batch_size=config.train_batch_size, \n",
    "    shuffle=True, \n",
    "    num_workers=4, \n",
    "    worker_init_fn=seed_worker)"
   ]
  },
  {
   "cell_type": "code",
   "execution_count": 8,
   "metadata": {},
   "outputs": [],
   "source": [
    "device = config.device"
   ]
  },
  {
   "cell_type": "code",
   "execution_count": 9,
   "metadata": {},
   "outputs": [],
   "source": [
    "config.feature.params['ref_stats_path'] = Path(ROOT_DIR, config.feature.params.ref_stats_path)"
   ]
  },
  {
   "cell_type": "code",
   "execution_count": 10,
   "metadata": {},
   "outputs": [
    {
     "data": {
      "text/plain": [
       "PosixPath('/home/lagutin/constrained_gen/maxent_gan/stats/CMDFeature_2d.npz')"
      ]
     },
     "execution_count": 10,
     "metadata": {},
     "output_type": "execute_result"
    }
   ],
   "source": [
    "config.feature.params.ref_stats_path"
   ]
  },
  {
   "cell_type": "code",
   "execution_count": 20,
   "metadata": {},
   "outputs": [
    {
     "name": "stderr",
     "output_type": "stream",
     "text": [
      "100%|██████████| 13/13 [00:00<00:00, 249.08it/s]"
     ]
    },
    {
     "name": "stdout",
     "output_type": "stream",
     "text": [
      "defaultdict(<function evaluate.<locals>.<lambda> at 0x7fd2a40d4c10>, {0: array([-8.9779633e-06, -1.5134773e-04,  1.1799289e-01,  1.1753958e-01,\n",
      "       -9.5862197e-06,  1.7874552e-05], dtype=float32)})\n"
     ]
    },
    {
     "name": "stderr",
     "output_type": "stream",
     "text": [
      "\n"
     ]
    }
   ],
   "source": [
    "ref_dist = DistributionRegistry.create(config.sample_params.distribution.name, gan=gan)\n",
    "# if config.sample_params.distribution.name == 'PriorTarget' and config.feature.name == 'DumbFeature':\n",
    "#     sampler = None\n",
    "# else:\n",
    "feature_dataloader = DataLoader(dataset, batch_size=config.data_batch_size)\n",
    "feature = create_feature(config, gan, feature_dataloader, dataset_stuff, None, device)\n",
    "sampler = MaxEntSampler(gen=gan.gen, ref_dist=ref_dist, feature=feature, **config.sample_params.params, sweet_init=True)"
   ]
  },
  {
   "cell_type": "code",
   "execution_count": 21,
   "metadata": {},
   "outputs": [
    {
     "data": {
      "text/plain": [
       "[tensor([-1.9473e+01, -2.4499e+00, -6.9691e+01, -6.9427e+01,  6.8881e-03,\n",
       "         -1.0582e-02], device='cuda:0')]"
      ]
     },
     "execution_count": 21,
     "metadata": {},
     "output_type": "execute_result"
    }
   ],
   "source": [
    "feature.weight"
   ]
  },
  {
   "cell_type": "code",
   "execution_count": null,
   "metadata": {},
   "outputs": [],
   "source": []
  }
 ],
 "metadata": {
  "interpreter": {
   "hash": "178bca306e324e31c3a3b5ac5e68cbefb30375f47c6566422ac974db62a7a08a"
  },
  "kernelspec": {
   "display_name": "Python 3.8.12 ('soul4')",
   "language": "python",
   "name": "python3"
  },
  "language_info": {
   "codemirror_mode": {
    "name": "ipython",
    "version": 3
   },
   "file_extension": ".py",
   "mimetype": "text/x-python",
   "name": "python",
   "nbconvert_exporter": "python",
   "pygments_lexer": "ipython3",
   "version": "3.8.12"
  },
  "orig_nbformat": 4
 },
 "nbformat": 4,
 "nbformat_minor": 2
}
