{
 "cells": [
  {
   "cell_type": "code",
   "execution_count": 5,
   "metadata": {},
   "outputs": [
    {
     "name": "stdout",
     "output_type": "stream",
     "text": [
      "The autoreload extension is already loaded. To reload it, use:\n",
      "  %reload_ext autoreload\n"
     ]
    }
   ],
   "source": [
    "%load_ext autoreload\n",
    "%autoreload 2"
   ]
  },
  {
   "cell_type": "code",
   "execution_count": 6,
   "metadata": {},
   "outputs": [],
   "source": [
    "# the goal of the notebook - to estimate lipschitz constant\n",
    "\n",
    "from soul_gan.models.utils import GANWrapper\n",
    "from soul_gan.utils.general_utils import DotConfig\n",
    "from soul_gan.utils.general_utils import ROOT_DIR\n",
    "\n",
    "import yaml\n",
    "from pathlib import Path\n",
    "import numpy as np\n",
    "\n",
    "import torch\n",
    "import seaborn as sns\n",
    "from matplotlib import pyplot as plt"
   ]
  },
  {
   "cell_type": "code",
   "execution_count": 7,
   "metadata": {},
   "outputs": [
    {
     "ename": "ImportError",
     "evalue": "cannot import name 'utils' from partially initialized module 'studiogan' (most likely due to a circular import) (/home/lagutin/anaconda3/envs/soul4/lib/python3.8/site-packages/studiogan/__init__.py)",
     "output_type": "error",
     "traceback": [
      "\u001b[0;31m---------------------------------------------------------------------------\u001b[0m",
      "\u001b[0;31mImportError\u001b[0m                               Traceback (most recent call last)",
      "\u001b[1;32m/home/lagutin/constrained_gen/soul_gan/notebooks/validation.ipynb Cell 3'\u001b[0m in \u001b[0;36m<cell line: 3>\u001b[0;34m()\u001b[0m\n\u001b[1;32m      <a href='vscode-notebook-cell://ssh-remote%2Bstatml2/home/lagutin/constrained_gen/soul_gan/notebooks/validation.ipynb#ch0000002vscode-remote?line=0'>1</a>\u001b[0m \u001b[39mimport\u001b[39;00m \u001b[39msys\u001b[39;00m\n\u001b[1;32m      <a href='vscode-notebook-cell://ssh-remote%2Bstatml2/home/lagutin/constrained_gen/soul_gan/notebooks/validation.ipynb#ch0000002vscode-remote?line=1'>2</a>\u001b[0m sys\u001b[39m.\u001b[39mpath\u001b[39m.\u001b[39mappend(\u001b[39m\"\u001b[39m\u001b[39m../studiogan\u001b[39m\u001b[39m\"\u001b[39m)\n\u001b[0;32m----> <a href='vscode-notebook-cell://ssh-remote%2Bstatml2/home/lagutin/constrained_gen/soul_gan/notebooks/validation.ipynb#ch0000002vscode-remote?line=2'>3</a>\u001b[0m \u001b[39mimport\u001b[39;00m \u001b[39mstudiogan\u001b[39;00m\n\u001b[1;32m      <a href='vscode-notebook-cell://ssh-remote%2Bstatml2/home/lagutin/constrained_gen/soul_gan/notebooks/validation.ipynb#ch0000002vscode-remote?line=3'>4</a>\u001b[0m \u001b[39mfrom\u001b[39;00m \u001b[39msoul_gan\u001b[39;00m\u001b[39m.\u001b[39;00m\u001b[39mmodels\u001b[39;00m\u001b[39m.\u001b[39;00m\u001b[39mstudiogans\u001b[39;00m \u001b[39mimport\u001b[39;00m StudioDis, StudioGen\n",
      "File \u001b[0;32m~/anaconda3/envs/soul4/lib/python3.8/site-packages/studiogan/__init__.py:4\u001b[0m, in \u001b[0;36m<module>\u001b[0;34m\u001b[0m\n\u001b[1;32m      <a href='file:///home/lagutin/anaconda3/envs/soul4/lib/python3.8/site-packages/studiogan/__init__.py?line=0'>1</a>\u001b[0m \u001b[39mimport\u001b[39;00m \u001b[39msys\u001b[39;00m\n\u001b[1;32m      <a href='file:///home/lagutin/anaconda3/envs/soul4/lib/python3.8/site-packages/studiogan/__init__.py?line=2'>3</a>\u001b[0m sys\u001b[39m.\u001b[39mpath\u001b[39m.\u001b[39mappend(\u001b[39m'\u001b[39m\u001b[39m.\u001b[39m\u001b[39m'\u001b[39m)\n\u001b[0;32m----> <a href='file:///home/lagutin/anaconda3/envs/soul4/lib/python3.8/site-packages/studiogan/__init__.py?line=3'>4</a>\u001b[0m \u001b[39mfrom\u001b[39;00m \u001b[39m.\u001b[39;00m \u001b[39mimport\u001b[39;00m config, utils\n",
      "\u001b[0;31mImportError\u001b[0m: cannot import name 'utils' from partially initialized module 'studiogan' (most likely due to a circular import) (/home/lagutin/anaconda3/envs/soul4/lib/python3.8/site-packages/studiogan/__init__.py)"
     ]
    }
   ],
   "source": [
    "import sys\n",
    "sys.path.append(\"../studiogan\")\n",
    "import studiogan\n",
    "from soul_gan.models.studiogans import StudioDis, StudioGen"
   ]
  },
  {
   "cell_type": "code",
   "execution_count": 4,
   "metadata": {},
   "outputs": [],
   "source": [
    "dataset = 'celeba'\n",
    "# dataset = 'cifar10'\n",
    "model = 'sngan-mmc'\n",
    "\n",
    "gan_config = yaml.safe_load(Path(f'../configs/gan_configs/{dataset}-{model}.yml').open('r'))\n",
    "gan_config = DotConfig(gan_config['gan_config'])"
   ]
  },
  {
   "cell_type": "code",
   "execution_count": 5,
   "metadata": {},
   "outputs": [],
   "source": [
    "device = torch.device(1 if torch.cuda.is_available() else 'cpu')"
   ]
  },
  {
   "cell_type": "code",
   "execution_count": 6,
   "metadata": {},
   "outputs": [],
   "source": [
    "gen, dis = load_gan(gan_config, device, False)"
   ]
  },
  {
   "cell_type": "code",
   "execution_count": 7,
   "metadata": {},
   "outputs": [
    {
     "name": "stdout",
     "output_type": "stream",
     "text": [
      "torch.Size([400]) torch.Size([400])\n",
      "torch.Size([400]) torch.Size([400])\n",
      "torch.Size([400]) torch.Size([400])\n",
      "torch.Size([400]) torch.Size([400])\n",
      "torch.Size([400]) torch.Size([400])\n",
      "torch.Size([400]) torch.Size([400])\n",
      "torch.Size([400]) torch.Size([400])\n"
     ]
    }
   ],
   "source": [
    "import numpy as np\n",
    "\n",
    "batch_size = 400 #500\n",
    "total_n = 2500\n",
    "\n",
    "grads = np.empty((0, gen.z_dim))\n",
    "zs = np.empty((0, gen.z_dim))\n",
    "\n",
    "for _ in range(0, total_n, batch_size):\n",
    "    z = gen.prior.sample((batch_size,))\n",
    "    z.requires_grad_(True)\n",
    "    dgz = dis(gen(z)).squeeze()\n",
    "    print(gen.prior.log_prob(z).shape, dgz.shape)\n",
    "    energy = gen.prior.log_prob(z) + dgz\n",
    "    #energy = dgz\n",
    "    grad = torch.autograd.grad(energy.sum(), z)[0]\n",
    "    grads = np.concatenate([grads, grad.detach().cpu().numpy()], 0)\n",
    "    zs = np.concatenate([zs, z.detach().cpu().numpy()], 0)\n",
    "      \n",
    "f_diffs = np.linalg.norm(grads[:, None, :] - grads[None, :, :], axis=-1)\n",
    "z_diffs = np.linalg.norm(zs[:, None, :] - zs[None, :, :], axis=-1)\n",
    "l_est = f_diffs / (z_diffs + np.eye(zs.shape[0]))\n",
    "#l_est = l_est.max()"
   ]
  },
  {
   "cell_type": "code",
   "execution_count": 8,
   "metadata": {},
   "outputs": [
    {
     "name": "stderr",
     "output_type": "stream",
     "text": [
      "/home/lagutin/anaconda3/envs/soul2/lib/python3.8/site-packages/seaborn/distributions.py:2619: FutureWarning: `distplot` is a deprecated function and will be removed in a future version. Please adapt your code to use either `displot` (a figure-level function with similar flexibility) or `histplot` (an axes-level function for histograms).\n",
      "  warnings.warn(msg, FutureWarning)\n"
     ]
    },
    {
     "data": {
      "text/plain": [
       "<AxesSubplot:ylabel='Density'>"
      ]
     },
     "execution_count": 8,
     "metadata": {},
     "output_type": "execute_result"
    },
    {
     "data": {
      "image/png": "[encoded data removed]",
      "text/plain": [
       "<Figure size 432x288 with 1 Axes>"
      ]
     },
     "metadata": {
      "needs_background": "light"
     },
     "output_type": "display_data"
    }
   ],
   "source": [
    "import seaborn as sns\n",
    "\n",
    "sns.distplot(l_est.tolist())"
   ]
  },
  {
   "cell_type": "code",
   "execution_count": 19,
   "metadata": {},
   "outputs": [
    {
     "data": {
      "text/plain": [
       "4.544017070679088"
      ]
     },
     "execution_count": 19,
     "metadata": {},
     "output_type": "execute_result"
    }
   ],
   "source": [
    "l_est.max()"
   ]
  },
  {
   "cell_type": "code",
   "execution_count": 8,
   "metadata": {},
   "outputs": [],
   "source": [
    "def estimate_lipschitz_const(gen, dis, n_steps, batch_size):\n",
    "    lipschitz_const_est = 0\n",
    "    for step_id in range(n_steps):\n",
    "        z = gen.prior.sample((batch_size,)).requires_grad_(True)\n",
    "        x_fake = gen(z)\n",
    "        dis_fake = dis(x_fake)\n",
    "        energy = gen.prior.log_prob(z) + dis_fake\n",
    "        grad = torch.autograd.grad(energy.sum(), z)[0]\n",
    "        grad_norm = torch.norm(grad, dim=1).mean()\n",
    "        lipschitz_const_est += grad_norm.item() / n_steps\n",
    "    \n",
    "    return lipschitz_const_est"
   ]
  },
  {
   "cell_type": "code",
   "execution_count": 10,
   "metadata": {},
   "outputs": [],
   "source": [
    "lipschitz_const_est = estimate_lipschitz_const(gen, dis, 10, 100)"
   ]
  },
  {
   "cell_type": "code",
   "execution_count": 11,
   "metadata": {},
   "outputs": [
    {
     "data": {
      "text/plain": [
       "0.023126984155831466"
      ]
     },
     "execution_count": 11,
     "metadata": {},
     "output_type": "execute_result"
    }
   ],
   "source": [
    "1./ lipschitz_const_est\n"
   ]
  },
  {
   "cell_type": "code",
   "execution_count": null,
   "metadata": {},
   "outputs": [],
   "source": []
  }
 ],
 "metadata": {
  "interpreter": {
   "hash": "4ea2d8a57f27bd43233272132454accb238a33b1e75d3ecbecd249b301daf972"
  },
  "kernelspec": {
   "display_name": "Python 3.8.12 64-bit ('soul2': conda)",
   "language": "python",
   "name": "python3"
  },
  "language_info": {
   "codemirror_mode": {
    "name": "ipython",
    "version": 3
   },
   "file_extension": ".py",
   "mimetype": "text/x-python",
   "name": "python",
   "nbconvert_exporter": "python",
   "pygments_lexer": "ipython3",
   "version": "3.8.12"
  },
  "orig_nbformat": 4
 },
 "nbformat": 4,
 "nbformat_minor": 2
}
