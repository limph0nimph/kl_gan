{
 "cells": [
  {
   "cell_type": "code",
   "execution_count": 2,
   "metadata": {},
   "outputs": [
    {
     "name": "stdout",
     "output_type": "stream",
     "text": [
      "The autoreload extension is already loaded. To reload it, use:\n",
      "  %reload_ext autoreload\n"
     ]
    }
   ],
   "source": [
    "%load_ext autoreload\n",
    "%autoreload 2"
   ]
  },
  {
   "cell_type": "code",
   "execution_count": 3,
   "metadata": {},
   "outputs": [],
   "source": [
    "from pathlib import Path\n",
    "import numpy as np\n",
    "from matplotlib import pyplot as plt\n",
    "import seaborn as sns\n",
    "import ruamel.yaml as yaml\n",
    "\n",
    "from soul_gan.utils.general_utils import ROOT_DIR, DotConfig\n"
   ]
  },
  {
   "cell_type": "code",
   "execution_count": 4,
   "metadata": {},
   "outputs": [],
   "source": [
    "sns.set_theme()"
   ]
  },
  {
   "cell_type": "code",
   "execution_count": 5,
   "metadata": {},
   "outputs": [],
   "source": [
    "logdir = Path(ROOT_DIR, 'log', 'dumb_feature')"
   ]
  },
  {
   "cell_type": "code",
   "execution_count": 11,
   "metadata": {},
   "outputs": [],
   "source": [
    "def plot_res(log_path, arange):\n",
    "    is_values = np.loadtxt(Path(log_path, 'is_values.txt'))[:, 0]\n",
    "    fid_values = np.loadtxt(Path(log_path, 'fid_values.txt'))\n",
    "    callback_results = np.loadtxt(Path(log_path, 'callback_results.txt'))\n",
    "    energy_results = callback_results[0]\n",
    "    dgz_results = callback_results[1]\n",
    "\n",
    "    plt.plot(arange, is_values)\n",
    "    plt.xlabel('Iteration')\n",
    "    plt.ylabel('IS')\n",
    "    plt.title('Inception Score')\n",
    "    plt.savefig(Path(log_path, 'figs', f'{log_path.stem}_is.pdf'))\n",
    "    plt.close()\n",
    "\n",
    "    plt.plot(arange, fid_values)\n",
    "    plt.xlabel('Iteration')\n",
    "    plt.ylabel('FID')\n",
    "    plt.title('FID Score')\n",
    "    plt.savefig(Path(log_path, 'figs', f'{log_path.stem}_fid.pdf'))\n",
    "    plt.close()\n",
    "\n",
    "    plt.plot(arange, energy_results)\n",
    "    plt.xlabel('Iteration')\n",
    "    plt.ylabel(r'$U(z)$')\n",
    "    plt.title('Energy')\n",
    "    plt.savefig(Path(log_path, 'figs', f'{log_path.stem}_energy.pdf'))\n",
    "    plt.close()\n",
    "\n",
    "    plt.plot(arange, dgz_results)\n",
    "    plt.xlabel('Iteration')\n",
    "    plt.ylabel(r'$d(G(z))$')\n",
    "    plt.title('Discriminator scores')\n",
    "    plt.savefig(Path(log_path, 'figs', f'{log_path.stem}_dgz.pdf'))\n",
    "    plt.close()"
   ]
  },
  {
   "cell_type": "code",
   "execution_count": 12,
   "metadata": {},
   "outputs": [
    {
     "name": "stdout",
     "output_type": "stream",
     "text": [
      "dcgan-dumb\n",
      "studio-sngan-dumb\n",
      "snresnet-dumb\n",
      "fail\n",
      "sngan-ns-dumb\n",
      "dcgan-dumb\n",
      "studio-dcgan-dumb\n",
      "snresnet-dumb\n",
      "studio-dcgan-dumb\n",
      "wgan-gp-dumb\n",
      "wgan-gp-dumb\n",
      "studio-sngan-dumb\n",
      "fail\n",
      "studio-wgan-gp-dumb\n",
      "sngan-ns-dumb\n",
      "studio-sagan-dumb\n"
     ]
    }
   ],
   "source": [
    "logs = list(logdir.glob('*'))\n",
    "\n",
    "for gan_logpath in logs:\n",
    "    if 'test' in gan_logpath.stem:\n",
    "        continue\n",
    "    configs = list(gan_logpath.glob('*.yml'))\n",
    "    config_path = configs[0] if configs[1].stem == 'gan_config' else configs[1]\n",
    "    print(config_path.stem)\n",
    "\n",
    "    Path(gan_logpath, 'figs').mkdir(exist_ok=True)\n",
    "    #config_path = Path(gan_logpath, 'dcgan-dumb.yml')\n",
    "    config = DotConfig(yaml.round_trip_load(config_path.open('r')))\n",
    "    n_steps = config.n_steps\n",
    "    every = config.every\n",
    "\n",
    "    arange = np.arange(0, n_steps + 1, every)\n",
    "    try:\n",
    "        plot_res(gan_logpath, arange)\n",
    "    except:\n",
    "        print('fail')\n"
   ]
  },
  {
   "cell_type": "code",
   "execution_count": null,
   "metadata": {},
   "outputs": [],
   "source": []
  }
 ],
 "metadata": {
  "interpreter": {
   "hash": "4ea2d8a57f27bd43233272132454accb238a33b1e75d3ecbecd249b301daf972"
  },
  "kernelspec": {
   "display_name": "Python 3.8.12 64-bit ('soul2': conda)",
   "language": "python",
   "name": "python3"
  },
  "language_info": {
   "codemirror_mode": {
    "name": "ipython",
    "version": 3
   },
   "file_extension": ".py",
   "mimetype": "text/x-python",
   "name": "python",
   "nbconvert_exporter": "python",
   "pygments_lexer": "ipython3",
   "version": "3.8.12"
  },
  "orig_nbformat": 4
 },
 "nbformat": 4,
 "nbformat_minor": 2
}
