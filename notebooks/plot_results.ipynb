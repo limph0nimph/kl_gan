{
 "cells": [
  {
   "cell_type": "code",
   "execution_count": 16,
   "metadata": {},
   "outputs": [
    {
     "name": "stdout",
     "output_type": "stream",
     "text": [
      "The autoreload extension is already loaded. To reload it, use:\n",
      "  %reload_ext autoreload\n"
     ]
    }
   ],
   "source": [
    "%load_ext autoreload\n",
    "%autoreload 2\n"
   ]
  },
  {
   "cell_type": "code",
   "execution_count": 17,
   "metadata": {},
   "outputs": [],
   "source": [
    "from pathlib import Path\n",
    "import numpy as np\n",
    "from matplotlib import pyplot as plt\n",
    "import seaborn as sns\n",
    "import ruamel.yaml as yaml\n",
    "\n",
    "from soul_gan.utils.general_utils import ROOT_DIR, DotConfig\n"
   ]
  },
  {
   "cell_type": "code",
   "execution_count": 18,
   "metadata": {},
   "outputs": [],
   "source": [
    "sns.set_theme()"
   ]
  },
  {
   "cell_type": "code",
   "execution_count": 19,
   "metadata": {},
   "outputs": [],
   "source": [
    "import matplotlib.pyplot as plt\n",
    "\n",
    "SMALL_SIZE = 14\n",
    "MEDIUM_SIZE = 16\n",
    "BIGGER_SIZE = 18\n",
    "\n",
    "plt.rc('font', size=SMALL_SIZE)          # controls default text sizes\n",
    "plt.rc('axes', titlesize=MEDIUM_SIZE)     # fontsize of the axes title\n",
    "plt.rc('axes', labelsize=MEDIUM_SIZE)    # fontsize of the x and y labels\n",
    "plt.rc('xtick', labelsize=SMALL_SIZE)    # fontsize of the tick labels\n",
    "plt.rc('ytick', labelsize=SMALL_SIZE)    # fontsize of the tick labels\n",
    "plt.rc('legend', fontsize=SMALL_SIZE)    # legend fontsize\n",
    "plt.rc('lines', linewidth=3)\n",
    "plt.rc('figure', titlesize=BIGGER_SIZE)  # fontsize of the figure title"
   ]
  },
  {
   "cell_type": "code",
   "execution_count": 25,
   "metadata": {},
   "outputs": [],
   "source": [
    "def plot_res(log_path, config, arange):\n",
    "    is_values = np.loadtxt(Path(log_path, 'is_values.txt'))[:, 0]\n",
    "    fid_values = np.loadtxt(Path(log_path, 'fid_values.txt'))\n",
    "    callback_results = np.loadtxt(Path(log_path, 'callback_results.txt'))\n",
    "    energy_results = callback_results[0]\n",
    "    dgz_results = callback_results[1]\n",
    "\n",
    "    fig = plt.figure()\n",
    "    plt.plot(arange, is_values)\n",
    "    plt.xlabel('Iteration')\n",
    "    plt.ylabel('IS')\n",
    "    plt.title('Inception Score')\n",
    "    fig.tight_layout()\n",
    "    plt.savefig(Path(log_path, 'figs', f'{log_path.stem}_is.png'))\n",
    "    plt.savefig(Path(log_path, 'figs', f'{log_path.stem}_is.pdf'))\n",
    "    plt.close()\n",
    "\n",
    "    fig = plt.figure()\n",
    "    plt.plot(arange, fid_values)\n",
    "    plt.xlabel('Iteration')\n",
    "    plt.ylabel('FID')\n",
    "    plt.title('FID Score')\n",
    "    fig.tight_layout()\n",
    "    plt.savefig(Path(log_path, 'figs', f'{log_path.stem}_fid.png'))\n",
    "    plt.savefig(Path(log_path, 'figs', f'{log_path.stem}_fid.pdf'))\n",
    "    plt.close()\n",
    "\n",
    "    fig = plt.figure()\n",
    "    plt.plot(arange, energy_results)\n",
    "    plt.xlabel('Iteration')\n",
    "    plt.ylabel(r'$U(z)$')\n",
    "    plt.title('Energy')\n",
    "    fig.tight_layout()\n",
    "    plt.savefig(Path(log_path, 'figs', f'{log_path.stem}_energy.png'))\n",
    "    plt.savefig(Path(log_path, 'figs', f'{log_path.stem}_energy.pdf'))\n",
    "    plt.close()\n",
    "\n",
    "    fig = plt.figure()\n",
    "    plt.plot(arange, dgz_results)\n",
    "    plt.xlabel('Iteration')\n",
    "    plt.ylabel(r'$d(G(z))$')\n",
    "    plt.axhline(config.thermalize[False]['real_score'], linestyle='--', label='avg real score', color='r')\n",
    "    plt.title('Discriminator scores')\n",
    "    plt.legend()\n",
    "    fig.tight_layout()\n",
    "    plt.savefig(Path(log_path, 'figs', f'{log_path.stem}_dgz.png'))\n",
    "    plt.savefig(Path(log_path, 'figs', f'{log_path.stem}_dgz.pdf'))\n",
    "    plt.close()\n",
    "\n",
    "    if Path(log_path, 'weight_norm.txt').exists():\n",
    "        weight_norms = np.loadtxt(Path(log_path, 'weight_norm.txt'))\n",
    "        mean = weight_norms.mean(0)\n",
    "        std = weight_norms.std(0)\n",
    "        fig = plt.figure()\n",
    "        plt.plot(arange, mean)\n",
    "        plt.fill_between(arange, mean - 1.96 * std, mean + 1.96 * std, alpha=0.3, label='95% CI')\n",
    "        for weight_norm in weight_norms[:5]:\n",
    "            plt.plot(arange, weight_norm, alpha=0.3)\n",
    "        plt.xlabel('Iteration')\n",
    "        plt.ylabel(r'$\\|\\theta\\|_2$')\n",
    "        #plt.axhline(config.thermalize[False]['real_score'], linestyle='--', label='avg real score', color='r')\n",
    "        plt.title('Weight norm')\n",
    "        plt.legend()\n",
    "        fig.tight_layout()\n",
    "        plt.savefig(Path(log_path, 'figs', f'{log_path.stem}_weight.png'))\n",
    "        plt.savefig(Path(log_path, 'figs', f'{log_path.stem}_weight.pdf'))\n",
    "        plt.close()\n",
    "\n",
    "    if Path(log_path, 'out.txt').exists():\n",
    "        outs = np.loadtxt(Path(log_path, 'out.txt'))\n",
    "        mean = outs.mean(0)\n",
    "        std = outs.std(0)\n",
    "        fig = plt.figure()\n",
    "        plt.plot(arange, mean)\n",
    "        plt.fill_between(arange, mean - 1.96 * std, mean + 1.96 * std, alpha=0.3, label='95% CI')\n",
    "        for out in outs[:5]:\n",
    "            plt.plot(arange, out, alpha=0.3)\n",
    "        \n",
    "        # if Path(log_path, 'ref_score.txt').exists():\n",
    "\n",
    "\n",
    "\n",
    "\n",
    "\n",
    "        plt.xlabel('Iteration')\n",
    "        plt.ylabel(r'$F(x)$')\n",
    "        #plt.axhline(config.thermalize[False]['real_score'], linestyle='--', label='avg real score', color='r')\n",
    "        plt.title('F(x)')\n",
    "        plt.legend()\n",
    "        fig.tight_layout()\n",
    "        plt.savefig(Path(log_path, 'figs', f'{log_path.stem}_out.png'))\n",
    "        plt.savefig(Path(log_path, 'figs', f'{log_path.stem}_out.pdf'))\n",
    "        plt.close()"
   ]
  },
  {
   "cell_type": "code",
   "execution_count": 26,
   "metadata": {},
   "outputs": [],
   "source": [
    "# feature = 'dumb'\n",
    "# feature = 'discriminator'\n",
    "feature = 'cluster'\n",
    "\n",
    "logdir = Path(ROOT_DIR, 'log', f'{feature}_feature')"
   ]
  },
  {
   "cell_type": "code",
   "execution_count": 27,
   "metadata": {},
   "outputs": [
    {
     "name": "stdout",
     "output_type": "stream",
     "text": [
      "dcgan-cluster\n"
     ]
    }
   ],
   "source": [
    "logs = list(logdir.glob('*'))\n",
    "\n",
    "for gan_logpath in logs:\n",
    "    if 'test' in gan_logpath.stem:\n",
    "        continue\n",
    "    configs = list(gan_logpath.glob('*.yml'))\n",
    "    config_path = configs[0] if configs[1].stem == 'gan_config' else configs[1]\n",
    "    gan_config_path = configs[1] if configs[1].stem == 'gan_config' else configs[0]\n",
    "    print(config_path.stem)\n",
    "\n",
    "\n",
    "    Path(gan_logpath, 'figs').mkdir(exist_ok=True)\n",
    "    #config_path = Path(gan_logpath, 'dcgan-dumb.yml')\n",
    "    config = DotConfig(yaml.round_trip_load(config_path.open('r')))\n",
    "    n_steps = config.n_steps\n",
    "    every = config.every\n",
    "\n",
    "    gan_config = DotConfig(yaml.round_trip_load(gan_config_path.open('r'))['gan_config'])\n",
    "\n",
    "    arange = np.arange(0, n_steps + 1, every)\n",
    "    try:\n",
    "        plot_res(gan_logpath, gan_config, arange)\n",
    "    except:\n",
    "        print('fail')\n"
   ]
  },
  {
   "cell_type": "code",
   "execution_count": null,
   "metadata": {},
   "outputs": [],
   "source": []
  },
  {
   "cell_type": "code",
   "execution_count": null,
   "metadata": {},
   "outputs": [],
   "source": []
  }
 ],
 "metadata": {
  "interpreter": {
   "hash": "4ea2d8a57f27bd43233272132454accb238a33b1e75d3ecbecd249b301daf972"
  },
  "kernelspec": {
   "display_name": "Python 3.8.12 64-bit ('soul2': conda)",
   "language": "python",
   "name": "python3"
  },
  "language_info": {
   "codemirror_mode": {
    "name": "ipython",
    "version": 3
   },
   "file_extension": ".py",
   "mimetype": "text/x-python",
   "name": "python",
   "nbconvert_exporter": "python",
   "pygments_lexer": "ipython3",
   "version": "3.8.12"
  },
  "orig_nbformat": 4
 },
 "nbformat": 4,
 "nbformat_minor": 2
}
