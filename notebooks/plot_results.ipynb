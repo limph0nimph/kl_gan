{
 "cells": [
  {
   "cell_type": "code",
   "execution_count": 1,
   "metadata": {},
   "outputs": [],
   "source": [
    "%load_ext autoreload\n",
    "%autoreload 2\n"
   ]
  },
  {
   "cell_type": "code",
   "execution_count": 2,
   "metadata": {},
   "outputs": [],
   "source": [
    "from pathlib import Path\n",
    "import numpy as np\n",
    "from matplotlib import pyplot as plt\n",
    "import seaborn as sns\n",
    "import ruamel.yaml as yaml\n",
    "\n",
    "from soul_gan.utils.general_utils import ROOT_DIR, DotConfig\n"
   ]
  },
  {
   "cell_type": "code",
   "execution_count": 3,
   "metadata": {},
   "outputs": [],
   "source": [
    "sns.set_theme()"
   ]
  },
  {
   "cell_type": "code",
   "execution_count": 4,
   "metadata": {},
   "outputs": [],
   "source": [
    "import matplotlib.pyplot as plt\n",
    "\n",
    "SMALL_SIZE = 14\n",
    "MEDIUM_SIZE = 16\n",
    "BIGGER_SIZE = 18\n",
    "\n",
    "plt.rc('font', size=SMALL_SIZE)          # controls default text sizes\n",
    "plt.rc('axes', titlesize=MEDIUM_SIZE)     # fontsize of the axes title\n",
    "plt.rc('axes', labelsize=MEDIUM_SIZE)    # fontsize of the x and y labels\n",
    "plt.rc('xtick', labelsize=SMALL_SIZE)    # fontsize of the tick labels\n",
    "plt.rc('ytick', labelsize=SMALL_SIZE)    # fontsize of the tick labels\n",
    "plt.rc('legend', fontsize=SMALL_SIZE)    # legend fontsize\n",
    "plt.rc('lines', linewidth=3)\n",
    "plt.rc('figure', titlesize=BIGGER_SIZE)  # fontsize of the figure title"
   ]
  },
  {
   "cell_type": "code",
   "execution_count": 5,
   "metadata": {},
   "outputs": [],
   "source": [
    "def plot_res(log_path, config, arange):\n",
    "\n",
    "    try:\n",
    "        is_values = np.loadtxt(Path(log_path, 'is_values.txt'))[:, 0]\n",
    "        fig = plt.figure()\n",
    "        plt.plot(np.arange(len(is_values))*arange[1], is_values)\n",
    "        plt.xlabel('Iteration')\n",
    "        plt.ylabel('IS')\n",
    "        plt.title('Inception Score')\n",
    "        fig.tight_layout()\n",
    "        plt.savefig(Path(log_path, 'figs', f'{log_path.name}_is.png'))\n",
    "        plt.savefig(Path(log_path, 'figs', f'{log_path.name}_is.pdf'))\n",
    "        plt.close()\n",
    "    except:\n",
    "        print('is failed')\n",
    "\n",
    "    try:\n",
    "        fid_values = np.loadtxt(Path(log_path, 'fid_values.txt'))\n",
    "        fig = plt.figure()\n",
    "        plt.plot(np.arange(len(fid_values))*arange[1], fid_values)\n",
    "        plt.xlabel('Iteration')\n",
    "        plt.ylabel('FID')\n",
    "        plt.title('FID Score')\n",
    "        fig.tight_layout()\n",
    "        plt.savefig(Path(log_path, 'figs', f'{log_path.name}_fid.png'))\n",
    "        plt.savefig(Path(log_path, 'figs', f'{log_path.name}_fid.pdf'))\n",
    "        plt.close()\n",
    "    except:\n",
    "        print('fid failed')\n",
    "\n",
    "    try:\n",
    "        callback_results = np.loadtxt(Path(log_path, 'callback_results.txt'))\n",
    "        energy_results = callback_results[0]\n",
    "        dgz_results = callback_results[1]\n",
    "        fig = plt.figure()\n",
    "        plt.plot(np.arange(len(energy_results))*arange[1], energy_results)\n",
    "        plt.xlabel('Iteration')\n",
    "        plt.ylabel(r'$U(z)$')\n",
    "        plt.title('Energy')\n",
    "        fig.tight_layout()\n",
    "        plt.savefig(Path(log_path, 'figs', f'{log_path.name}_energy.png'))\n",
    "        plt.savefig(Path(log_path, 'figs', f'{log_path.name}_energy.pdf'))\n",
    "        plt.close()\n",
    "    except:\n",
    "        print('energy failed')\n",
    "\n",
    "    try:\n",
    "        callback_results = np.loadtxt(Path(log_path, 'callback_results.txt'))\n",
    "        energy_results = callback_results[0]\n",
    "        dgz_results = callback_results[1]\n",
    "        fig = plt.figure()\n",
    "        plt.plot(arange, dgz_results)\n",
    "        plt.xlabel('Iteration')\n",
    "        plt.ylabel(r'$d(G(z))$')\n",
    "        plt.axhline(config.thermalize[False]['real_score'], linestyle='--', label='avg real score', color='r')\n",
    "        plt.title('Discriminator scores')\n",
    "        plt.legend()\n",
    "        fig.tight_layout()\n",
    "        plt.savefig(Path(log_path, 'figs', f'{log_path.name}_dgz.png'))\n",
    "        plt.savefig(Path(log_path, 'figs', f'{log_path.name}_dgz.pdf'))\n",
    "        plt.close()\n",
    "    except:\n",
    "        print('dgz failed')\n",
    "\n",
    "    if Path(log_path, 'weight_norm.txt').exists():\n",
    "\n",
    "        weight_norms = np.loadtxt(Path(log_path, 'weight_norm.txt')).reshape(-1, len(arange))\n",
    "        mean = weight_norms.mean(0)\n",
    "        std = weight_norms.std(0)\n",
    "        fig = plt.figure()\n",
    "        plt.plot(np.arange(len(mean))*arange[1], mean)\n",
    "        plt.fill_between(np.arange(len(mean))*arange[1], mean - 1.96 * std, mean + 1.96 * std, alpha=0.3, label='95% CI')\n",
    "        for weight_norm in weight_norms[:5]:\n",
    "            plt.plot(np.arange(len(mean))*arange[1], weight_norm, alpha=0.3)\n",
    "        plt.xlabel('Iteration')\n",
    "        plt.ylabel(r'$\\Vert \\theta\\Vert_2$')\n",
    "        #plt.axhline(config.thermalize[False]['real_score'], linestyle='--', label='avg real score', color='r')\n",
    "        plt.title('Weight convergence')\n",
    "        plt.legend()\n",
    "        fig.tight_layout()\n",
    "        plt.savefig(Path(log_path, 'figs', f'{log_path.name}_weight.png'))\n",
    "        plt.savefig(Path(log_path, 'figs', f'{log_path.name}_weight.pdf'))\n",
    "        plt.close()\n",
    "\n",
    "    if Path(log_path, 'out.txt').exists():\n",
    "        outs = np.loadtxt(Path(log_path, 'out.txt')).reshape(-1, len(arange))\n",
    "        mean = outs.mean(0)\n",
    "        std = outs.std(0)\n",
    "        fig = plt.figure()\n",
    "        plt.plot(np.arange(len(mean))*arange[1], mean)\n",
    "        plt.fill_between(np.arange(len(mean))*arange[1], mean - 1.96 * std, mean + 1.96 * std, alpha=0.3, label='95% CI')\n",
    "        for out in outs[:5]:\n",
    "            plt.plot(np.arange(len(mean))*arange[1], out, alpha=0.3)\n",
    "        \n",
    "        # if Path(log_path, 'ref_score.txt').exists():\n",
    "\n",
    "        plt.xlabel('Iteration')\n",
    "        plt.ylabel(r'$F(x)$')\n",
    "        #plt.axhline(config.thermalize[False]['real_score'], linestyle='--', label='avg real score', color='r')\n",
    "        plt.title('F(x)')\n",
    "        plt.legend()\n",
    "        fig.tight_layout()\n",
    "        plt.savefig(Path(log_path, 'figs', f'{log_path.name}_out.png'))\n",
    "        plt.savefig(Path(log_path, 'figs', f'{log_path.name}_out.pdf'))\n",
    "        plt.close()\n",
    "\n",
    "    if Path(log_path, 'residual.txt').exists():\n",
    "        residuals = np.loadtxt(Path(log_path, 'residual.txt')).reshape(-1, len(arange))\n",
    "        mean = residuals.mean(0)\n",
    "        std = residuals.std(0)\n",
    "        fig = plt.figure()\n",
    "        plt.plot(np.arange(len(mean))*arange[1], mean)\n",
    "        plt.fill_between(np.arange(len(mean))*arange[1], mean - 1.96 * std, mean + 1.96 * std, alpha=0.3, label='95% CI')\n",
    "        for res in residuals[:5]:\n",
    "            plt.plot(np.arange(len(mean))*arange[1], res, alpha=0.3)\n",
    "        \n",
    "        # if Path(log_path, 'ref_score.txt').exists():\n",
    "\n",
    "        plt.xlabel('Iteration')\n",
    "        plt.ylabel(r'$\\hat{\\mathbb{E}}_{\\pi_{\\theta}}\\Vert F(G(z)))-\\pi_{data}(F)\\Vert$')\n",
    "        #plt.axhline(config.thermalize[False]['real_score'], linestyle='--', label='avg real score', color='r')\n",
    "        plt.title('Residual')\n",
    "        plt.legend()\n",
    "        fig.tight_layout()\n",
    "        plt.savefig(Path(log_path, 'figs', f'{log_path.name}_residual.png'))\n",
    "        plt.savefig(Path(log_path, 'figs', f'{log_path.name}_residual.pdf'))\n",
    "        plt.close()\n",
    "\n",
    "    if Path(log_path, 'dot_pr.txt').exists():\n",
    "        residuals = np.loadtxt(Path(log_path, 'dot_pr.txt')).reshape(-1, len(arange))\n",
    "        mean = residuals.mean(0)\n",
    "        std = residuals.std(0)\n",
    "        fig = plt.figure()\n",
    "        plt.plot(np.arange(len(mean))*arange[1], mean)\n",
    "        plt.fill_between(np.arange(len(mean))*arange[1], mean - 1.96 * std, mean + 1.96 * std, alpha=0.3, label='95% CI')\n",
    "        for res in residuals[:5]:\n",
    "            plt.plot(np.arange(len(mean))*arange[1], res, alpha=0.3)\n",
    "        \n",
    "        # if Path(log_path, 'ref_score.txt').exists():\n",
    "\n",
    "        plt.xlabel('Iteration')\n",
    "        plt.ylabel(r'$\\langle \\theta, F(x) \\rangle$')\n",
    "        #plt.axhline(config.thermalize[False]['real_score'], linestyle='--', label='avg real score', color='r')\n",
    "        plt.title('Weigth-feauture dot product')\n",
    "        plt.legend()\n",
    "        fig.tight_layout()\n",
    "        plt.savefig(Path(log_path, 'figs', f'{log_path.name}_dot_pr.png'))\n",
    "        plt.savefig(Path(log_path, 'figs', f'{log_path.name}_dot_pr.pdf'))\n",
    "        plt.close()\n",
    "\n",
    "    if Path(log_path, 'dot_pr.txt').exists() and Path(log_path, 'Energy.txt').exists():\n",
    "        residuals = np.loadtxt(Path(log_path, 'dot_pr.txt')).reshape(-1, len(arange))\n",
    "        mean = residuals.mean(0)\n",
    "        std = residuals.std(0)\n",
    "\n",
    "        energies = np.loadtxt(Path(log_path, 'Energy.txt')).reshape(-1, len(arange))\n",
    "        mean += energies.mean(0)\n",
    "        std += energies.std(0)\n",
    "\n",
    "        fig = plt.figure()\n",
    "        plt.plot(np.arange(len(mean))*arange[1], mean)\n",
    "        plt.fill_between(np.arange(len(mean))*arange[1], mean - 1.96 * std, mean + 1.96 * std, alpha=0.3, label='95% CI')\n",
    "        # for res in residuals[:5]:\n",
    "        #     plt.plot(np.arange(len(mean))*arange[1], res, alpha=0.3)\n",
    "        \n",
    "        # if Path(log_path, 'ref_score.txt').exists():\n",
    "\n",
    "        plt.xlabel('Iteration')\n",
    "        #plt.ylabel(r'$\\hat{\\mathbb{E}}_{\\pi_{\\theta}}\\Vert F(G(z)))-\\pi_{data}(F)\\Vert$')\n",
    "        plt.ylabel(r'$\\langle \\theta, F(G(z)) \\rangle + U(z)$')\n",
    "        #plt.axhline(config.thermalize[False]['real_score'], linestyle='--', label='avg real score', color='r')\n",
    "        plt.title('Energy of dist with constraint')\n",
    "        plt.legend()\n",
    "        fig.tight_layout()\n",
    "        plt.savefig(Path(log_path, 'figs', f'{log_path.name}_sum.png'))\n",
    "        plt.savefig(Path(log_path, 'figs', f'{log_path.name}_sum.pdf'))\n",
    "        plt.close()"
   ]
  },
  {
   "cell_type": "code",
   "execution_count": 6,
   "metadata": {},
   "outputs": [
    {
     "data": {
      "text/plain": [
       "2052"
      ]
     },
     "execution_count": 6,
     "metadata": {},
     "output_type": "execute_result"
    }
   ],
   "source": [
    "Path('some.txt').open('w').write('\\\n",
    "0.000000000000000000e+00 1.692337632179260254e+00 1.955699682235717773e+00 2.090187072753906250e+00 2.202907085418701172e+00 2.282454252243041992e+00 2.380316734313964844e+00 2.443105459213256836e+00 2.489995479583740234e+00 2.568444252014160156e+00 2.609169721603393555e+00 2.600733518600463867e+00 2.605199813842773438e+00 2.591424703598022461e+00 2.642232656478881836e+00 2.700360536575317383e+00 2.734471797943115234e+00 2.755367040634155273e+00 2.764559268951416016e+00 2.788673877716064453e+00 2.749524831771850586e+00 2.795939445495605469e+00 2.820138931274414062e+00 2.822337627410888672e+00 2.792717933654785156e+00 2.831691741943359375e+00 2.813915252685546875e+00 2.808730125427246094e+00 2.811447620391845703e+00 2.777168989181518555e+00 2.800547838211059570e+00 2.798245429992675781e+00 2.826055526733398438e+00 2.795619726181030273e+00 2.752202987670898438e+00 2.745911359786987305e+00 2.768913507461547852e+00 2.790482282638549805e+00 2.813791513442993164e+00 2.768628597259521484e+00 2.805598974227905273e+00 \\n\\\n",
    "0.000000000000000000e+00 1.668902397155761719e+00 1.915048718452453613e+00 2.034396886825561523e+00 2.135133981704711914e+00 2.223660230636596680e+00 2.268137931823730469e+00 2.406196117401123047e+00 2.461409091949462891e+00 2.498932600021362305e+00 2.545799255371093750e+00 2.532538890838623047e+00 2.534296035766601562e+00 2.558458089828491211e+00 2.604765176773071289e+00 2.695053577423095703e+00 2.686410188674926758e+00 2.680880784988403320e+00 2.696000099182128906e+00 2.708842277526855469e+00 2.758109331130981445e+00 2.793910503387451172e+00 2.812906742095947266e+00 2.805714607238769531e+00 2.799506187438964844e+00 2.790133237838745117e+00 2.783660411834716797e+00 2.837615966796875000e+00 2.874148130416870117e+00 2.918921947479248047e+00 2.896153211593627930e+00 2.821365833282470703e+00 2.787875652313232422e+00 2.743401765823364258e+00 2.786046981811523438e+00 2.830179691314697266e+00 2.876456975936889648e+00 2.940192222595214844e+00 2.961699962615966797e+00 2.958764314651489258e+00 2.936460733413696289e+00 \\n\\\n",
    "')"
   ]
  },
  {
   "cell_type": "code",
   "execution_count": 7,
   "metadata": {},
   "outputs": [
    {
     "data": {
      "text/plain": [
       "<matplotlib.collections.PolyCollection at 0x7f4b190abe80>"
      ]
     },
     "execution_count": 7,
     "metadata": {},
     "output_type": "execute_result"
    },
    {
     "data": {
      "image/png": "[encoded data removed]",
      "text/plain": [
       "<Figure size 432x288 with 1 Axes>"
      ]
     },
     "metadata": {},
     "output_type": "display_data"
    }
   ],
   "source": [
    "arr = np.loadtxt('some.txt')\n",
    "#plt.plot(np.arange(arr.shape[0]), arr) #.mean())\n",
    "plt.plot(np.arange(arr.shape[1]), arr.mean(0))\n",
    "plt.fill_between(np.arange(arr.shape[1]), arr.mean(0)-1.96*arr.std(0), arr.mean(0)+1.96*arr.std(0), alpha=0.3)"
   ]
  },
  {
   "cell_type": "code",
   "execution_count": 16,
   "metadata": {},
   "outputs": [],
   "source": [
    "feature = 'dumb'\n",
    "#feature = 'discriminator'\n",
    "#feature = 'cluster'\n",
    "# feature = 'identity'\n",
    "feature = 'resnet34'\n",
    "#feature = 'cluster_resnet34'\n",
    "\n",
    "target = 'Discriminator'\n",
    "#target = 'Prior'\n",
    "\n",
    "# model = 'dcgan_test_0.01_0.1'\n",
    "#model = 'dcgan_0.01'\n",
    "#model = 'wgan_gp_0.001'\n",
    "#model = 'wgan_gp_0.1'\n",
    "# model = 'sngan_ns_0.003'\n",
    "model = 'dcgan_0.01'\n",
    "#model = 'sngan_ns_0.1' #001'\n",
    "# model = 'snresnet_0.01'\n",
    "#model = 'studio_wgan_gp_0.001'\n",
    "\n",
    "logdir = Path(ROOT_DIR, 'log', f'{feature}_feature_{target}Target')"
   ]
  },
  {
   "cell_type": "code",
   "execution_count": 51,
   "metadata": {},
   "outputs": [
    {
     "name": "stdout",
     "output_type": "stream",
     "text": [
      "dcgan-resnet34\n"
     ]
    }
   ],
   "source": [
    "logs = list(logdir.glob(model))\n",
    "\n",
    "for gan_logpath in logs:\n",
    "    # if 'test' in gan_logpath.stem:\n",
    "    #     continue\n",
    "    configs = list(gan_logpath.glob('*.yml'))\n",
    "    config_path = configs[0] if configs[1].stem == 'gan_config' else configs[1]\n",
    "    gan_config_path = configs[1] if configs[1].stem == 'gan_config' else configs[0]\n",
    "    print(config_path.stem)\n",
    "\n",
    "    Path(gan_logpath, 'figs').mkdir(exist_ok=True)\n",
    "    #config_path = Path(gan_logpath, 'dcgan-dumb.yml')\n",
    "    config = DotConfig(yaml.round_trip_load(config_path.open('r')))\n",
    "    n_steps = config.n_steps\n",
    "    every = config.every\n",
    "\n",
    "    gan_config = DotConfig(yaml.round_trip_load(gan_config_path.open('r'))['gan_config'])\n",
    "\n",
    "    arange = np.arange(0, n_steps + 1, every)\n",
    "    #try:\n",
    "    plot_res(gan_logpath, gan_config, arange)\n",
    "    # except:\n",
    "    #   print('fail')\n"
   ]
  },
  {
   "cell_type": "code",
   "execution_count": 36,
   "metadata": {},
   "outputs": [
    {
     "data": {
      "text/plain": [
       "[]"
      ]
     },
     "execution_count": 36,
     "metadata": {},
     "output_type": "execute_result"
    }
   ],
   "source": [
    "logs"
   ]
  },
  {
   "cell_type": "code",
   "execution_count": 31,
   "metadata": {},
   "outputs": [
    {
     "data": {
      "text/plain": [
       "array([   0,   25,   50,   75,  100,  125,  150,  175,  200,  225,  250,\n",
       "        275,  300,  325,  350,  375,  400,  425,  450,  475,  500,  525,\n",
       "        550,  575,  600,  625,  650,  675,  700,  725,  750,  775,  800,\n",
       "        825,  850,  875,  900,  925,  950,  975, 1000])"
      ]
     },
     "execution_count": 31,
     "metadata": {},
     "output_type": "execute_result"
    }
   ],
   "source": [
    "arange"
   ]
  },
  {
   "cell_type": "code",
   "execution_count": null,
   "metadata": {},
   "outputs": [],
   "source": []
  }
 ],
 "metadata": {
  "interpreter": {
   "hash": "4ea2d8a57f27bd43233272132454accb238a33b1e75d3ecbecd249b301daf972"
  },
  "kernelspec": {
   "display_name": "Python 3.8.12 64-bit ('soul2': conda)",
   "language": "python",
   "name": "python3"
  },
  "language_info": {
   "codemirror_mode": {
    "name": "ipython",
    "version": 3
   },
   "file_extension": ".py",
   "mimetype": "text/x-python",
   "name": "python",
   "nbconvert_exporter": "python",
   "pygments_lexer": "ipython3",
   "version": "3.8.12"
  },
  "orig_nbformat": 4
 },
 "nbformat": 4,
 "nbformat_minor": 2
}
