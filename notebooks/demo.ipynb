{
 "cells": [
  {
   "cell_type": "code",
   "execution_count": 38,
   "metadata": {},
   "outputs": [],
   "source": [
    "import numpy as np\n",
    "from matplotlib import pyplot as plt\n",
    "from pathlib import Path"
   ]
  },
  {
   "cell_type": "code",
   "execution_count": 48,
   "metadata": {},
   "outputs": [],
   "source": [
    "img_path = Path('../log/dumb_feature_DiscriminatorTarget/studio_stylegan2_0.01/images/100.npy')"
   ]
  },
  {
   "cell_type": "code",
   "execution_count": 49,
   "metadata": {},
   "outputs": [],
   "source": [
    "imgs = np.load(img_path)"
   ]
  },
  {
   "cell_type": "code",
   "execution_count": 50,
   "metadata": {},
   "outputs": [
    {
     "data": {
      "text/plain": [
       "(160, 3, 32, 32)"
      ]
     },
     "execution_count": 50,
     "metadata": {},
     "output_type": "execute_result"
    }
   ],
   "source": [
    "imgs.shape"
   ]
  },
  {
   "cell_type": "code",
   "execution_count": 76,
   "metadata": {},
   "outputs": [
    {
     "name": "stderr",
     "output_type": "stream",
     "text": [
      "Clipping input data to the valid range for imshow with RGB data ([0..1] for floats or [0..255] for integers).\n"
     ]
    },
    {
     "data": {
      "text/plain": [
       "<matplotlib.image.AxesImage at 0x7f50c5299fd0>"
      ]
     },
     "execution_count": 76,
     "metadata": {},
     "output_type": "execute_result"
    },
    {
     "data": {
      "image/png": "[encoded data removed]",
      "text/plain": [
       "<Figure size 432x288 with 1 Axes>"
      ]
     },
     "metadata": {
      "needs_background": "light"
     },
     "output_type": "display_data"
    }
   ],
   "source": [
    "plt.imshow(imgs[24].transpose(1, 2, 0))"
   ]
  },
  {
   "cell_type": "code",
   "execution_count": 30,
   "metadata": {},
   "outputs": [
    {
     "data": {
      "text/plain": [
       "array([[[ 0.0956279 ,  0.0894759 ,  0.06163433],\n",
       "        [ 0.13260186,  0.12341177,  0.10260662],\n",
       "        [ 0.14674842,  0.13817108,  0.12227407],\n",
       "        ...,\n",
       "        [ 0.12404063,  0.12219527,  0.10025212],\n",
       "        [ 0.13389775,  0.13404158,  0.10580236],\n",
       "        [ 0.14219129,  0.14084604,  0.1007846 ]],\n",
       "\n",
       "       [[ 0.09355828,  0.08046702,  0.06878492],\n",
       "        [ 0.12124979,  0.11414537,  0.10851333],\n",
       "        [ 0.13498133,  0.13290256,  0.13385892],\n",
       "        ...,\n",
       "        [ 0.13165784,  0.12294707,  0.11684215],\n",
       "        [ 0.12446564,  0.11359626,  0.10573062],\n",
       "        [ 0.14243522,  0.13633397,  0.11475453]],\n",
       "\n",
       "       [[ 0.09778059,  0.09259689,  0.08569026],\n",
       "        [ 0.12170562,  0.12135607,  0.12465152],\n",
       "        [ 0.13284755,  0.13853088,  0.14980537],\n",
       "        ...,\n",
       "        [ 0.15971896,  0.1629475 ,  0.14451435],\n",
       "        [ 0.14699736,  0.14851752,  0.12787992],\n",
       "        [ 0.15027103,  0.14931971,  0.11671349]],\n",
       "\n",
       "       ...,\n",
       "\n",
       "       [[ 0.07296836,  0.05620944,  0.04443961],\n",
       "        [ 0.08097863,  0.06375286,  0.05646303],\n",
       "        [ 0.09462094,  0.08472168,  0.08273709],\n",
       "        ...,\n",
       "        [-0.0063976 , -0.01321423, -0.01301116],\n",
       "        [-0.01005387, -0.01824701, -0.0211162 ],\n",
       "        [-0.00655961, -0.01678586, -0.0122261 ]],\n",
       "\n",
       "       [[ 0.06076729,  0.03564402,  0.01494965],\n",
       "        [ 0.06557614,  0.04243764,  0.02294192],\n",
       "        [ 0.09780976,  0.08518797,  0.07520425],\n",
       "        ...,\n",
       "        [-0.01181239, -0.02211595, -0.02419204],\n",
       "        [-0.01916599, -0.02862781, -0.0292477 ],\n",
       "        [-0.01698685, -0.02744406, -0.02799582]],\n",
       "\n",
       "       [[ 0.00923547, -0.00391859, -0.02350968],\n",
       "        [ 0.02714074,  0.01019445, -0.00463808],\n",
       "        [ 0.02906117,  0.0184336 ,  0.01179829],\n",
       "        ...,\n",
       "        [-0.00956535, -0.02224666, -0.02210319],\n",
       "        [-0.00934047, -0.02203065, -0.0231238 ],\n",
       "        [-0.04788816, -0.05956709, -0.06154281]]], dtype=float32)"
      ]
     },
     "execution_count": 30,
     "metadata": {},
     "output_type": "execute_result"
    }
   ],
   "source": [
    "(imgs[4].transpose(1, 2, 0) * 0.5 + 0.5)"
   ]
  },
  {
   "cell_type": "code",
   "execution_count": null,
   "metadata": {},
   "outputs": [],
   "source": []
  }
 ],
 "metadata": {
  "interpreter": {
   "hash": "4ea2d8a57f27bd43233272132454accb238a33b1e75d3ecbecd249b301daf972"
  },
  "kernelspec": {
   "display_name": "Python 3.8.12 ('soul2')",
   "language": "python",
   "name": "python3"
  },
  "language_info": {
   "codemirror_mode": {
    "name": "ipython",
    "version": 3
   },
   "file_extension": ".py",
   "mimetype": "text/x-python",
   "name": "python",
   "nbconvert_exporter": "python",
   "pygments_lexer": "ipython3",
   "version": "3.8.12"
  },
  "orig_nbformat": 4
 },
 "nbformat": 4,
 "nbformat_minor": 2
}
