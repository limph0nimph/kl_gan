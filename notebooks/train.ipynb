{
 "cells": [
  {
   "cell_type": "code",
   "execution_count": 1,
   "metadata": {},
   "outputs": [
    {
     "name": "stderr",
     "output_type": "stream",
     "text": [
      "2022-04-02 13:04:05.161522: I tensorflow/stream_executor/platform/default/dso_loader.cc:49] Successfully opened dynamic library libcudart.so.10.1\n"
     ]
    }
   ],
   "source": [
    "%load_ext autoreload\n",
    "%autoreload 2\n",
    "\n",
    "from pathlib import Path\n",
    "import ruamel.yaml as yaml\n",
    "from torch.optim import Adam\n",
    "from torch.utils.data import DataLoader\n",
    "import subprocess\n",
    "from functools import partial\n",
    "import sys\n",
    "\n",
    "import sys\n",
    "sys.path.append(\"../studiogan\")\n",
    "\n",
    "from soul_gan.utils.train.trainer import Trainer\n",
    "from soul_gan.utils.train.loss import LossRegistry\n",
    "from soul_gan.utils.general_utils import DotConfig, CONFIGS_DIR, ROOT_DIR\n",
    "from soul_gan.models.utils import GANWrapper\n",
    "from soul_gan.sample import soul\n",
    "from soul_gan.feature import FeatureRegistry\n",
    "from soul_gan.distribution import DistributionRegistry\n",
    "from soul_gan.utils.callbacks import CallbackRegistry\n",
    "from soul_gan.datasets.utils import get_dataset\n",
    "from soul_gan.utils.eval_feature import evaluate"
   ]
  },
  {
   "cell_type": "code",
   "execution_count": 2,
   "metadata": {},
   "outputs": [],
   "source": [
    "from easydict import EasyDict as edict\n",
    "\n",
    "args = edict()\n",
    "\n",
    "configs = ['configs/exp_configs/mlp-cmd.yml', 'configs/targets/discriminator.yml', 'configs/gan_configs/ring-mlp.yml', 'configs/feature_configs/cmd_2d.yml', 'configs/train_2d.yml']\n",
    "configs = [Path(ROOT_DIR, x).as_posix() for x in configs]\n",
    "args.configs = configs"
   ]
  },
  {
   "cell_type": "code",
   "execution_count": 3,
   "metadata": {},
   "outputs": [],
   "source": [
    "params = yaml.round_trip_load(Path(args.configs[0]).open(\"r\"))"
   ]
  },
  {
   "cell_type": "code",
   "execution_count": 4,
   "metadata": {},
   "outputs": [],
   "source": [
    "proc = subprocess.Popen(\"/bin/bash\", stdin=subprocess.PIPE, stdout=subprocess.PIPE)\n",
    "out, err = proc.communicate(\n",
    "    (\n",
    "        \" \".join(\n",
    "            [\n",
    "                \"echo\",\n",
    "                '\"' + str(yaml.round_trip_dump(params)) + '\"',\n",
    "                \"|\",\n",
    "                \"cat - \",\n",
    "                *args.configs[1:],\n",
    "            ]\n",
    "        )\n",
    "    ).encode(\"utf-8\")\n",
    ")\n",
    "config = yaml.round_trip_load(out.decode(\"utf-8\"))\n",
    "config = DotConfig(config)"
   ]
  },
  {
   "cell_type": "code",
   "execution_count": 5,
   "metadata": {},
   "outputs": [],
   "source": [
    "gan = GANWrapper(config.gan_config, device=config.device, load_weights=False)"
   ]
  },
  {
   "cell_type": "code",
   "execution_count": 6,
   "metadata": {},
   "outputs": [],
   "source": [
    "train_config = config.train_params\n",
    "criterion_g = LossRegistry.create(train_config.criterion_g.name)\n",
    "criterion_d = LossRegistry.create(train_config.criterion_d.name)\n",
    "\n",
    "optimizer_g = eval(train_config.optimizer_g.name)(gan.gen.parameters(), lr=train_config.optimizer_g.params.lr, betas=train_config.optimizer_g.params.betas)\n",
    "optimizer_d = eval(train_config.optimizer_d.name)(gan.dis.parameters(), lr=train_config.optimizer_d.params.lr, betas=train_config.optimizer_d.params.betas)\n"
   ]
  },
  {
   "cell_type": "code",
   "execution_count": 7,
   "metadata": {},
   "outputs": [],
   "source": [
    "dataset_dict = get_dataset(\"gaussians_ring\", mean=config.gan_config.train_transform.Normalize.mean, std=config.gan_config.train_transform.Normalize.std)\n",
    "dataset = dataset_dict[\"dataset\"]\n",
    "dataloader = DataLoader(dataset, batch_size=config.batch_size)"
   ]
  },
  {
   "cell_type": "code",
   "execution_count": 8,
   "metadata": {},
   "outputs": [],
   "source": [
    "train_callbacks = []\n",
    "for callback_name, callback in config.callbacks.train_callbacks.items():\n",
    "    train_callbacks.append(CallbackRegistry.create(callback.name, **callback.params))"
   ]
  },
  {
   "cell_type": "code",
   "execution_count": 9,
   "metadata": {},
   "outputs": [
    {
     "name": "stderr",
     "output_type": "stream",
     "text": [
      "100%|██████████| 5/5 [00:00<00:00, 239.67it/s]"
     ]
    },
    {
     "name": "stdout",
     "output_type": "stream",
     "text": [
      "defaultdict(<function evaluate.<locals>.<lambda> at 0x7ff35b2b6af0>, {0: array([ 9.5625874e-06,  4.1923951e-05,  1.1813395e-01,  1.1703535e-01,\n",
      "       -7.3284609e-06,  2.8375909e-05], dtype=float32)})\n"
     ]
    },
    {
     "name": "stderr",
     "output_type": "stream",
     "text": [
      "\n"
     ]
    }
   ],
   "source": [
    "feature_callbacks = []\n",
    "callbacks = config.callbacks.feature_callbacks\n",
    "if callbacks:\n",
    "    for _, callback in callbacks.items():\n",
    "        params = callback.params.dict\n",
    "        # HACK\n",
    "        if \"gan\" in params:\n",
    "            params[\"gan\"] = gan\n",
    "        # if \"save_dir\" in params:\n",
    "        #     params[\"save_dir\"] = save_dir\n",
    "        # if \"np_dataset\" in params:\n",
    "        #     np_dataset = np.concatenate([gan.inverse_transform(batch).numpy() for batch in dataloader], 0)\n",
    "        #     params[\"np_dataset\"] = np_dataset\n",
    "        feature_callbacks.append(\n",
    "            CallbackRegistry.create(callback.name, **params)\n",
    "        )\n",
    "\n",
    "feature_kwargs = config.feature.params.dict\n",
    "feature_kwargs[\"ref_stats_path\"] = Path(ROOT_DIR, feature_kwargs[\"ref_stats_path\"]).as_posix()\n",
    "\n",
    "# HACK\n",
    "if \"gan\" in config.sample_params.feature.params:\n",
    "    feature_kwargs[\"gan\"] = gan\n",
    "if \"dataloader\" in config.sample_params.feature.params:\n",
    "    feature_kwargs[\"dataloader\"] = dataloader\n",
    "\n",
    "feature = FeatureRegistry.create(\n",
    "    config.feature.name,\n",
    "    callbacks=feature_callbacks,\n",
    "    inverse_transform=gan.inverse_transform,\n",
    "    **feature_kwargs,\n",
    ")\n",
    "\n",
    "if config.sample_params.feature.params.ref_stats_path:\n",
    "    feature.eval = True\n",
    "    stats = evaluate(\n",
    "        feature,\n",
    "        dataset,\n",
    "        config.batch_size,\n",
    "        config.device,\n",
    "        Path(ROOT_DIR, config.sample_params.feature.params.ref_stats_path),\n",
    "    )\n",
    "    print(stats)\n",
    "    feature = FeatureRegistry.create(\n",
    "        config.sample_params.feature.name,\n",
    "        callbacks=feature_callbacks,\n",
    "        inverse_transform=gan.inverse_transform,\n",
    "        **feature_kwargs,\n",
    "    )\n",
    "feature.eval = False"
   ]
  },
  {
   "cell_type": "code",
   "execution_count": 10,
   "metadata": {},
   "outputs": [],
   "source": [
    "ref_dist = DistributionRegistry.create(config.sample_params.distribution.name, gan=gan) #, **sample_params.distribution.params)\n",
    "sample_fn = partial(soul, gen=gan.gen, ref_dist=ref_dist, feature=feature, **config.sample_params.params)"
   ]
  },
  {
   "cell_type": "code",
   "execution_count": 11,
   "metadata": {},
   "outputs": [],
   "source": [
    "trainer = Trainer(\n",
    "    gan, \n",
    "    optimizer_g, \n",
    "    optimizer_d, \n",
    "    criterion_g, \n",
    "    criterion_d, \n",
    "    dataloader, \n",
    "    device=config.device, \n",
    "    n_dis=train_config.n_dis, \n",
    "    callbacks=train_callbacks,\n",
    "    sample_fn=sample_fn\n",
    "    )"
   ]
  },
  {
   "cell_type": "code",
   "execution_count": 12,
   "metadata": {},
   "outputs": [
    {
     "name": "stdout",
     "output_type": "stream",
     "text": [
      "Epoch: 0, Loss G: 0.6561220407485963, Loss D: 6.244720816612244\n",
      "Epoch: 10, Loss G: 2.4347618103027346, Loss D: 0.9954729080200195\n",
      "Epoch: 20, Loss G: 2.2835834980010987, Loss D: 2.1753192245960236\n",
      "Epoch: 30, Loss G: 2.1646979331970213, Loss D: 1.9758872091770172\n",
      "Epoch: 40, Loss G: 2.237870216369629, Loss D: 1.8448194861412048\n",
      "Epoch: 50, Loss G: 2.260161781311035, Loss D: 1.741582065820694\n"
     ]
    },
    {
     "ename": "KeyboardInterrupt",
     "evalue": "",
     "output_type": "error",
     "traceback": [
      "\u001b[0;31m---------------------------------------------------------------------------\u001b[0m",
      "\u001b[0;31mKeyboardInterrupt\u001b[0m                         Traceback (most recent call last)",
      "\u001b[1;32m/home/lagutin/constrained_gen/soul_gan/notebooks/train.ipynb Cell 12'\u001b[0m in \u001b[0;36m<cell line: 1>\u001b[0;34m()\u001b[0m\n\u001b[0;32m----> <a href='vscode-notebook-cell://ssh-remote%2Bstatml2/home/lagutin/constrained_gen/soul_gan/notebooks/train.ipynb#ch0000005vscode-remote?line=0'>1</a>\u001b[0m trainer\u001b[39m.\u001b[39;49mtrain(n_epochs\u001b[39m=\u001b[39;49mtrain_config\u001b[39m.\u001b[39;49mn_epochs)\n",
      "File \u001b[0;32m~/constrained_gen/soul_gan/soul_gan/utils/train/trainer.py:66\u001b[0m, in \u001b[0;36mTrainer.train\u001b[0;34m(self, n_epochs, report_every)\u001b[0m\n\u001b[1;32m     <a href='file:///home/lagutin/constrained_gen/soul_gan/soul_gan/utils/train/trainer.py?line=63'>64</a>\u001b[0m \u001b[39mfor\u001b[39;00m batch \u001b[39min\u001b[39;00m \u001b[39mself\u001b[39m\u001b[39m.\u001b[39mdataloader:\n\u001b[1;32m     <a href='file:///home/lagutin/constrained_gen/soul_gan/soul_gan/utils/train/trainer.py?line=64'>65</a>\u001b[0m     batch \u001b[39m=\u001b[39m batch\u001b[39m.\u001b[39mto(\u001b[39mself\u001b[39m\u001b[39m.\u001b[39mdevice)\n\u001b[0;32m---> <a href='file:///home/lagutin/constrained_gen/soul_gan/soul_gan/utils/train/trainer.py?line=65'>66</a>\u001b[0m     l_g, l_d \u001b[39m=\u001b[39m \u001b[39mself\u001b[39;49m\u001b[39m.\u001b[39;49mstep(batch)\n\u001b[1;32m     <a href='file:///home/lagutin/constrained_gen/soul_gan/soul_gan/utils/train/trainer.py?line=66'>67</a>\u001b[0m     loss_g \u001b[39m+\u001b[39m\u001b[39m=\u001b[39m l_g \u001b[39m/\u001b[39m \u001b[39mlen\u001b[39m(\u001b[39mself\u001b[39m\u001b[39m.\u001b[39mdataloader)\n\u001b[1;32m     <a href='file:///home/lagutin/constrained_gen/soul_gan/soul_gan/utils/train/trainer.py?line=67'>68</a>\u001b[0m     loss_d \u001b[39m+\u001b[39m\u001b[39m=\u001b[39m l_d\n",
      "File \u001b[0;32m~/constrained_gen/soul_gan/soul_gan/utils/train/trainer.py:52\u001b[0m, in \u001b[0;36mTrainer.step\u001b[0;34m(self, real_batch)\u001b[0m\n\u001b[1;32m     <a href='file:///home/lagutin/constrained_gen/soul_gan/soul_gan/utils/train/trainer.py?line=48'>49</a>\u001b[0m     loss_d\u001b[39m.\u001b[39mbackward()\n\u001b[1;32m     <a href='file:///home/lagutin/constrained_gen/soul_gan/soul_gan/utils/train/trainer.py?line=49'>50</a>\u001b[0m     \u001b[39mself\u001b[39m\u001b[39m.\u001b[39moptimizer_d\u001b[39m.\u001b[39mstep()\n\u001b[0;32m---> <a href='file:///home/lagutin/constrained_gen/soul_gan/soul_gan/utils/train/trainer.py?line=51'>52</a>\u001b[0m fake_batch \u001b[39m=\u001b[39m \u001b[39mself\u001b[39;49m\u001b[39m.\u001b[39;49msample_fake(batch_size)\n\u001b[1;32m     <a href='file:///home/lagutin/constrained_gen/soul_gan/soul_gan/utils/train/trainer.py?line=52'>53</a>\u001b[0m score_fake \u001b[39m=\u001b[39m \u001b[39mself\u001b[39m\u001b[39m.\u001b[39mgan\u001b[39m.\u001b[39mdis(fake_batch)\n\u001b[1;32m     <a href='file:///home/lagutin/constrained_gen/soul_gan/soul_gan/utils/train/trainer.py?line=53'>54</a>\u001b[0m loss_g \u001b[39m=\u001b[39m \u001b[39mself\u001b[39m\u001b[39m.\u001b[39mcriterion_g(score_fake)\n",
      "File \u001b[0;32m~/constrained_gen/soul_gan/soul_gan/utils/train/trainer.py:34\u001b[0m, in \u001b[0;36mTrainer.sample_fake\u001b[0;34m(self, batch_size)\u001b[0m\n\u001b[1;32m     <a href='file:///home/lagutin/constrained_gen/soul_gan/soul_gan/utils/train/trainer.py?line=31'>32</a>\u001b[0m latent \u001b[39m=\u001b[39m \u001b[39mself\u001b[39m\u001b[39m.\u001b[39mgan\u001b[39m.\u001b[39mgen\u001b[39m.\u001b[39mprior\u001b[39m.\u001b[39msample((batch_size,))\n\u001b[1;32m     <a href='file:///home/lagutin/constrained_gen/soul_gan/soul_gan/utils/train/trainer.py?line=32'>33</a>\u001b[0m \u001b[39mif\u001b[39;00m \u001b[39mself\u001b[39m\u001b[39m.\u001b[39msample_fn:\n\u001b[0;32m---> <a href='file:///home/lagutin/constrained_gen/soul_gan/soul_gan/utils/train/trainer.py?line=33'>34</a>\u001b[0m     latents, fakes \u001b[39m=\u001b[39m \u001b[39mself\u001b[39;49m\u001b[39m.\u001b[39;49msample_fn(latent)\n\u001b[1;32m     <a href='file:///home/lagutin/constrained_gen/soul_gan/soul_gan/utils/train/trainer.py?line=34'>35</a>\u001b[0m     fake_batch \u001b[39m=\u001b[39m \u001b[39mself\u001b[39m\u001b[39m.\u001b[39mgan\u001b[39m.\u001b[39mgen(latents[\u001b[39m-\u001b[39m\u001b[39m1\u001b[39m]\u001b[39m.\u001b[39mto(\u001b[39mself\u001b[39m\u001b[39m.\u001b[39mdevice))\n\u001b[1;32m     <a href='file:///home/lagutin/constrained_gen/soul_gan/soul_gan/utils/train/trainer.py?line=35'>36</a>\u001b[0m \u001b[39melse\u001b[39;00m:\n",
      "File \u001b[0;32m~/constrained_gen/soul_gan/soul_gan/utils/timer.py:10\u001b[0m, in \u001b[0;36mtime_comp.<locals>.wrapper\u001b[0;34m(*args, **kwargs)\u001b[0m\n\u001b[1;32m      <a href='file:///home/lagutin/constrained_gen/soul_gan/soul_gan/utils/timer.py?line=5'>6</a>\u001b[0m \u001b[39mdef\u001b[39;00m \u001b[39mwrapper\u001b[39m(\u001b[39m*\u001b[39margs, \u001b[39m*\u001b[39m\u001b[39m*\u001b[39mkwargs):\n\u001b[1;32m      <a href='file:///home/lagutin/constrained_gen/soul_gan/soul_gan/utils/timer.py?line=6'>7</a>\u001b[0m     \u001b[39m# date = str(datetime.datetime.now())[0:10]\u001b[39;00m\n\u001b[1;32m      <a href='file:///home/lagutin/constrained_gen/soul_gan/soul_gan/utils/timer.py?line=7'>8</a>\u001b[0m     \u001b[39m# params = args[0]\u001b[39;00m\n\u001b[1;32m      <a href='file:///home/lagutin/constrained_gen/soul_gan/soul_gan/utils/timer.py?line=8'>9</a>\u001b[0m     t0 \u001b[39m=\u001b[39m time\u001b[39m.\u001b[39mperf_counter()\n\u001b[0;32m---> <a href='file:///home/lagutin/constrained_gen/soul_gan/soul_gan/utils/timer.py?line=9'>10</a>\u001b[0m     model \u001b[39m=\u001b[39m fun(\u001b[39m*\u001b[39;49margs, \u001b[39m*\u001b[39;49m\u001b[39m*\u001b[39;49mkwargs)\n\u001b[1;32m     <a href='file:///home/lagutin/constrained_gen/soul_gan/soul_gan/utils/timer.py?line=11'>12</a>\u001b[0m     tf \u001b[39m=\u001b[39m time\u001b[39m.\u001b[39mperf_counter()\n\u001b[1;32m     <a href='file:///home/lagutin/constrained_gen/soul_gan/soul_gan/utils/timer.py?line=12'>13</a>\u001b[0m     dt \u001b[39m=\u001b[39m tf \u001b[39m-\u001b[39m t0\n",
      "File \u001b[0;32m~/constrained_gen/soul_gan/soul_gan/sample.py:87\u001b[0m, in \u001b[0;36msoul\u001b[0;34m(z, gen, ref_dist, feature, n_steps, burn_in_steps, start_sample, n_sampling_steps, weight_step, step_size, save_every, verbose)\u001b[0m\n\u001b[1;32m     <a href='file:///home/lagutin/constrained_gen/soul_gan/soul_gan/sample.py?line=83'>84</a>\u001b[0m \u001b[39mif\u001b[39;00m reset:\n\u001b[1;32m     <a href='file:///home/lagutin/constrained_gen/soul_gan/soul_gan/sample.py?line=84'>85</a>\u001b[0m     feature\u001b[39m.\u001b[39mavg_feature\u001b[39m.\u001b[39mreset()\n\u001b[0;32m---> <a href='file:///home/lagutin/constrained_gen/soul_gan/soul_gan/sample.py?line=86'>87</a>\u001b[0m inter_zs, grad_norms \u001b[39m=\u001b[39m ula(\n\u001b[1;32m     <a href='file:///home/lagutin/constrained_gen/soul_gan/soul_gan/sample.py?line=87'>88</a>\u001b[0m     z,\n\u001b[1;32m     <a href='file:///home/lagutin/constrained_gen/soul_gan/soul_gan/sample.py?line=88'>89</a>\u001b[0m     target,\n\u001b[1;32m     <a href='file:///home/lagutin/constrained_gen/soul_gan/soul_gan/sample.py?line=89'>90</a>\u001b[0m     \u001b[39mNone\u001b[39;49;00m,\n\u001b[1;32m     <a href='file:///home/lagutin/constrained_gen/soul_gan/soul_gan/sample.py?line=90'>91</a>\u001b[0m     step_size,\n\u001b[1;32m     <a href='file:///home/lagutin/constrained_gen/soul_gan/soul_gan/sample.py?line=91'>92</a>\u001b[0m     n_steps\u001b[39m=\u001b[39;49mn_sampling_steps,\n\u001b[1;32m     <a href='file:///home/lagutin/constrained_gen/soul_gan/soul_gan/sample.py?line=92'>93</a>\u001b[0m     project\u001b[39m=\u001b[39;49mref_dist\u001b[39m.\u001b[39;49mproject,\n\u001b[1;32m     <a href='file:///home/lagutin/constrained_gen/soul_gan/soul_gan/sample.py?line=93'>94</a>\u001b[0m )\n\u001b[1;32m     <a href='file:///home/lagutin/constrained_gen/soul_gan/soul_gan/sample.py?line=94'>95</a>\u001b[0m \u001b[39mif\u001b[39;00m it \u001b[39m>\u001b[39m start_sample:\n\u001b[1;32m     <a href='file:///home/lagutin/constrained_gen/soul_gan/soul_gan/sample.py?line=95'>96</a>\u001b[0m     z \u001b[39m=\u001b[39m inter_zs[\u001b[39m-\u001b[39m\u001b[39m1\u001b[39m]\n",
      "File \u001b[0;32m~/constrained_gen/soul_gan/soul_gan/sample.py:28\u001b[0m, in \u001b[0;36mula\u001b[0;34m(z, target, proposal, step_size, n_steps, project)\u001b[0m\n\u001b[1;32m     <a href='file:///home/lagutin/constrained_gen/soul_gan/soul_gan/sample.py?line=25'>26</a>\u001b[0m \u001b[39m# grad = torch.clip(grad, max=1e1)\u001b[39;00m\n\u001b[1;32m     <a href='file:///home/lagutin/constrained_gen/soul_gan/soul_gan/sample.py?line=26'>27</a>\u001b[0m grad_norms\u001b[39m.\u001b[39mappend(torch\u001b[39m.\u001b[39mnorm(grad \u001b[39m+\u001b[39m z, dim\u001b[39m=\u001b[39m\u001b[39m-\u001b[39m\u001b[39m1\u001b[39m)\u001b[39m.\u001b[39mmean()\u001b[39m.\u001b[39mitem())\n\u001b[0;32m---> <a href='file:///home/lagutin/constrained_gen/soul_gan/soul_gan/sample.py?line=27'>28</a>\u001b[0m noise \u001b[39m=\u001b[39m torch\u001b[39m.\u001b[39;49mrandn(z\u001b[39m.\u001b[39;49mshape, dtype\u001b[39m=\u001b[39;49mtorch\u001b[39m.\u001b[39;49mfloat)\u001b[39m.\u001b[39mto(device)\n\u001b[1;32m     <a href='file:///home/lagutin/constrained_gen/soul_gan/soul_gan/sample.py?line=28'>29</a>\u001b[0m noise_scale \u001b[39m=\u001b[39m (\u001b[39m2.0\u001b[39m \u001b[39m*\u001b[39m step_size) \u001b[39m*\u001b[39m\u001b[39m*\u001b[39m \u001b[39m0.5\u001b[39m\n\u001b[1;32m     <a href='file:///home/lagutin/constrained_gen/soul_gan/soul_gan/sample.py?line=29'>30</a>\u001b[0m z \u001b[39m=\u001b[39m z \u001b[39m+\u001b[39m step_size \u001b[39m*\u001b[39m grad \u001b[39m+\u001b[39m noise_scale \u001b[39m*\u001b[39m noise\n",
      "\u001b[0;31mKeyboardInterrupt\u001b[0m: "
     ]
    }
   ],
   "source": [
    "trainer.train(n_epochs=train_config.n_epochs)"
   ]
  },
  {
   "cell_type": "code",
   "execution_count": 13,
   "metadata": {},
   "outputs": [],
   "source": [
    "z = gan.gen.prior.sample((1000, ))\n",
    "x = gan.gen(z).detach().cpu().numpy()"
   ]
  },
  {
   "cell_type": "code",
   "execution_count": 14,
   "metadata": {},
   "outputs": [
    {
     "data": {
      "text/plain": [
       "<matplotlib.collections.PathCollection at 0x7ff31a96ab20>"
      ]
     },
     "execution_count": 14,
     "metadata": {},
     "output_type": "execute_result"
    },
    {
     "data": {
      "image/png": "[encoded data removed]",
      "text/plain": [
       "<Figure size 432x288 with 1 Axes>"
      ]
     },
     "metadata": {
      "needs_background": "light"
     },
     "output_type": "display_data"
    }
   ],
   "source": [
    "from matplotlib import pyplot as plt\n",
    "\n",
    "plt.scatter(x[:, 0], x[:, 1])"
   ]
  },
  {
   "cell_type": "code",
   "execution_count": null,
   "metadata": {},
   "outputs": [],
   "source": []
  }
 ],
 "metadata": {
  "interpreter": {
   "hash": "7ee6f3abe409989be0a2fd701a6b28985919ea174648fc70c43b122aff7b8e76"
  },
  "kernelspec": {
   "display_name": "Python 3.9.4 ('ue')",
   "language": "python",
   "name": "python3"
  },
  "language_info": {
   "codemirror_mode": {
    "name": "ipython",
    "version": 3
   },
   "file_extension": ".py",
   "mimetype": "text/x-python",
   "name": "python",
   "nbconvert_exporter": "python",
   "pygments_lexer": "ipython3",
   "version": "3.8.12"
  },
  "orig_nbformat": 4
 },
 "nbformat": 4,
 "nbformat_minor": 2
}
