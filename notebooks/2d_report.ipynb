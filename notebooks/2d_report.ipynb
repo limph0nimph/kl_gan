{
 "cells": [
  {
   "cell_type": "code",
   "execution_count": 1,
   "metadata": {},
   "outputs": [],
   "source": [
    "import tabulate\n",
    "from pathlib import Path\n",
    "import numpy as np\n",
    "\n",
    "from typing import List, Dict\n",
    "from collections import defaultdict\n",
    "\n",
    "import tabulate"
   ]
  },
  {
   "cell_type": "code",
   "execution_count": 2,
   "metadata": {},
   "outputs": [],
   "source": [
    "models = ['mlp_wass', 'mlp_js', 'mlp_ring']\n",
    "\n",
    "step_sizes = [0.0001, 0.0001, 0.001]\n",
    "\n",
    "features = {\n",
    "    \"dumb\": [\"\"],\n",
    "    \"discriminator\": [\"\"],\n",
    "    \"cluster\": {\n",
    "         \"\": [\"\",],# \"_dis\"],\n",
    "        \"_v1\": [\"\", \"_dis\"],\n",
    "        \"_v2\": {\n",
    "            \"\": [\"\", \"_dis\"],\n",
    "            # \"_lin\": [\"\", \"_dis\"],\n",
    "            # \"_quad\": [\"\", \"_dis\"],\n",
    "        },\n",
    "        # \"_v3\": [\"\", \"_dis\"]\n",
    "    },\n",
    "    \"mmd\": {\n",
    "            \"\": [\"\", \"_dis\"],\n",
    "            # \"_lin\": [\"\"], #\"_dis\"],\n",
    "            # \"_quad\": [\"\"],#, \"_dis\"],\n",
    "        },\n",
    "    \"cmd\": {\n",
    "            \"\": [\"\", \"_dis\"],\n",
    "        }, \n",
    "}\n",
    "target = \"Discriminator\""
   ]
  },
  {
   "cell_type": "code",
   "execution_count": 3,
   "metadata": {},
   "outputs": [],
   "source": [
    "log_dir = '../log'"
   ]
  },
  {
   "cell_type": "code",
   "execution_count": 4,
   "metadata": {},
   "outputs": [],
   "source": [
    "exps_mean = defaultdict(list)\n",
    "exps_std = defaultdict(list)\n",
    "\n",
    "for model, step_size in zip(models, step_sizes):\n",
    "    exps_mean['models'].append(model)\n",
    "    exps_std['models'].append(model)\n",
    "\n",
    "    path = Path(log_dir, f'dumb_feature_{target}Target', f'{model}_{step_size}')\n",
    "    try:\n",
    "        emd = np.loadtxt(Path(path, 'EMD.txt'))[:, 0]\n",
    "        std = emd.std(ddof=1)\n",
    "        emd = emd.mean()\n",
    "    except:\n",
    "        emd = np.loadtxt(Path(path, 'callback_results.txt'))[2, 0]\n",
    "    exps_mean['gan'].append(emd)\n",
    "    exps_std['gan'].append(std)\n",
    "\n",
    "def move(subs, suff, feature):\n",
    "    if isinstance(subs, List):\n",
    "        for model, step_size in zip(models, step_sizes):\n",
    "            for s in subs:\n",
    "                path = Path(log_dir, f'{feature}_feature_{target}Target', f'{model}{suff}{s}_{step_size}')\n",
    "                #try:\n",
    "                emd = np.loadtxt(Path(path, 'EMD.txt'))[:, 1]\n",
    "                std = emd.std(ddof=1)\n",
    "                emd = emd.mean()\n",
    "                # except:\n",
    "                #     emd = np.loadtxt(Path(path, 'callback_results.txt'))[2, -1]\n",
    "                exps_mean[feature+path.name[len(model):-len(f'_{step_size}')]].append(emd)\n",
    "                exps_std[feature+path.name[len(model):-len(f'_{step_size}')]].append(std)\n",
    "        \n",
    "            # exps.extend([Path(log_dir, f'{feature}_feature_{target}Target', f'{model}{suff}{s}_0.001') for s in subs])\n",
    "        return\n",
    "    elif isinstance(subs, Dict):\n",
    "        for sub_key, subs_ in subs.items():\n",
    "            move(subs_, suff+sub_key, feature)\n",
    "\n",
    "for feature, subs in features.items():\n",
    "    move(subs, \"\", feature)\n"
   ]
  },
  {
   "cell_type": "code",
   "execution_count": 5,
   "metadata": {},
   "outputs": [],
   "source": [
    "\n",
    "exps_mean_cp = {}\n",
    "for k, v in exps_mean.items():\n",
    "    k = k.replace('discriminator', 'dis')\n",
    "    k = k.replace('dis', 'dis')\n",
    "    k = k.replace('cluster', 'clust')\n",
    "    exps_mean_cp[k] = v\n",
    "\n",
    "exps_std_cp = {}\n",
    "for k, v in exps_std.items():\n",
    "    k = k.replace('discriminator', 'dis')\n",
    "    k = k.replace('dis', 'dis')\n",
    "    k = k.replace('cluster', 'clust')\n",
    "    exps_std_cp[k] = v"
   ]
  },
  {
   "cell_type": "code",
   "execution_count": 6,
   "metadata": {},
   "outputs": [],
   "source": [
    "# tabulate.tabulate(exps_mean_cp, tablefmt='latex', headers='keys', floatfmt='.2')"
   ]
  },
  {
   "cell_type": "code",
   "execution_count": 7,
   "metadata": {},
   "outputs": [],
   "source": [
    "# print(tabulate.tabulate(exps_cp, tablefmt='grid', headers='keys', floatfmt='.2'))"
   ]
  },
  {
   "cell_type": "code",
   "execution_count": 8,
   "metadata": {},
   "outputs": [
    {
     "name": "stdout",
     "output_type": "stream",
     "text": [
      "| models   |   gan |   dumb |   dis |   clust |   clust_v1 |   clust_v1_dis |   clust_v2 |   clust_v2_dis |   mmd |   mmd_dis |   cmd |   cmd_dis |\n",
      "|:---------|------:|-------:|------:|--------:|-----------:|---------------:|-----------:|---------------:|------:|----------:|------:|----------:|\n",
      "| mlp_wass | 0.26  |  0.251 | 0.296 |   0.233 |      0.243 |          0.237 |      0.254 |          0.23  | 0.276 |     0.252 | 0.246 |     0.215 |\n",
      "| mlp_js   | 0.373 |  0.433 | 0.437 |   0.311 |      0.352 |          0.355 |      0.314 |          0.301 | 0.41  |     0.36  | 0.306 |     0.297 |\n",
      "| mlp_ring | 2.11  |  2.2   | 1.52  |   2.2   |      1.82  |          1.49  |      2.03  |          1.94  | 2.22  |     2.22  | 2.23  |     2.15  |\n"
     ]
    }
   ],
   "source": [
    "print(tabulate.tabulate(exps_mean_cp, tablefmt='pipe', headers='keys', floatfmt='.3'))"
   ]
  },
  {
   "cell_type": "code",
   "execution_count": 9,
   "metadata": {},
   "outputs": [
    {
     "name": "stdout",
     "output_type": "stream",
     "text": [
      "| models   |    gan |    dumb |    dis |   clust |   clust_v1 |   clust_v1_dis |   clust_v2 |   clust_v2_dis |    mmd |   mmd_dis |     cmd |   cmd_dis |\n",
      "|:---------|-------:|--------:|-------:|--------:|-----------:|---------------:|-----------:|---------------:|-------:|----------:|--------:|----------:|\n",
      "| mlp_wass | 0.0172 | 0.0189  | 0.0466 | 0.00929 |     0.017  |        0.00795 |     0.0123 |         0.0079 | 0.0202 |    0.0219 | 0.00947 |   0.00271 |\n",
      "| mlp_js   | 0.0357 | 0.0584  | 0.0226 | 0.019   |     0.0101 |        0.00448 |     0.0142 |         0.015  | 0.0306 |    0.0421 | 0.0222  |   0.0136  |\n",
      "| mlp_ring | 0.0384 | 0.00888 | 0.046  | 0.0477  |     0.0364 |        0.00261 |     0.0324 |         0.0343 | 0.032  |    0.016  | 0.0177  |   0.0286  |\n"
     ]
    }
   ],
   "source": [
    "print(tabulate.tabulate(exps_std_cp, tablefmt='pipe', headers='keys', floatfmt='.3'))"
   ]
  },
  {
   "cell_type": "markdown",
   "metadata": {},
   "source": [
    "| models   |   gan |   dumb |   dis |   clust |   clust_v1 |   clust_v1_dis |   clust_v2 |   clust_v2_dis |   mmd |   mmd_dis |   cmd |   cmd_dis |\n",
    "|:---------|------:|-------:|------:|--------:|-----------:|---------------:|-----------:|---------------:|------:|----------:|------:|----------:|\n",
    "| mlp_wass | 0.26  |  0.251 | 0.296 |   0.233 |      0.243 |          0.237 |      0.254 |          0.23  | 0.276 |     0.252 | 0.246 |     **0.215** |\n",
    "| mlp_js   | 0.373 |  0.433 | 0.437 |   0.311 |      0.352 |          0.355 |      0.314 |          **0.301** | 0.41  |     0.36  | **0.306** |     **0.297** |\n",
    "| mlp_ring | 2.11  |  2.2   | 1.52  |   2.2   |      1.82  |          **1.49**  |      2.03  |          1.94  | 2.22  |     2.22  | 2.23  |     2.15  |"
   ]
  },
  {
   "cell_type": "markdown",
   "metadata": {},
   "source": [
    "| models   |   gan |   dumb |   dis |   clust |   clust_dis |   clust_v1 |   clust_v1_dis |   clust_v2 |   clust_v2_dis |   mmd |   mmd_dis |   cmd |   cmd_dis |\n",
    "|:---------|------:|-------:|------:|--------:|------------:|-----------:|---------------:|-----------:|---------------:|------:|----------:|------:|----------:|\n",
    "| mlp_wass | 0.254 |  0.253 | 0.318 |   0.217 |       0.251 |      0.247 |          0.238 |      0.239 |          0.221 | 0.268 |     0.258 | 0.22  |     0.231 |\n",
    "| mlp_js   | 0.366 |  0.44  | 0.471 |   0.313 |       0.384 |      0.369 |          0.364 |      0.316 |          0.343 | 0.513 |     0.39  | 0.323 |     0.296 |\n",
    "| mlp_ring | 2.81  |  2.81  | 2.8   |   2.81  |       2.77  |      2.03  |          1.47  |      2.37  |          2.14  | 2.81  |     2.8   | 2.81  |     2.7   |"
   ]
  },
  {
   "cell_type": "markdown",
   "metadata": {},
   "source": []
  },
  {
   "cell_type": "markdown",
   "metadata": {},
   "source": [
    "\n",
    "| models   |   gan |   dumb |   dis |   clust |   clust_dis |   clust_v1 |   clust_v1_dis |   clust_v2 |   clust_v2_dis |   mmd |   mmd_dis |   cmd |   cmd_dis |\n",
    "|:---------|------:|-------:|------:|--------:|------------:|-----------:|---------------:|-----------:|---------------:|------:|----------:|------:|----------:|\n",
    "| mlp_wass |  0.25 |   0.25 |  0.32 |   <font color='red'>0.22</font> |        0.25 |       0.25 |           0.24 |       0.24 |           <font color='red'>0.22</font> |  0.27 |      0.26 |  <font color='red'>0.22</font> |      0.23 |\n",
    "| mlp_js   |  0.37 |   0.44 |  0.47 |    <font color='red'>0.31</font> |        0.38 |       0.37 |           0.36 |       0.32 |           0.34 |  0.51 |      0.39 |  0.32 |      <font color='red'>0.3</font>  |\n",
    "| mlp_ring |  2.8  |   2.8  |  2.8  |    2.8  |        2.8  |       2.0  |           <font color='red'>1.5</font>  |       2.4  |           2.2  |  2.8  |      2.8  |  2.8  |      2.4  |"
   ]
  },
  {
   "cell_type": "code",
   "execution_count": null,
   "metadata": {},
   "outputs": [],
   "source": []
  },
  {
   "cell_type": "markdown",
   "metadata": {},
   "source": [
    "clust:\n",
    "\n",
    "$F_k(x) = \\sigma(\\|x - \\mu_k\\|_2 - \\Sigma_k),~k=1..K$\n",
    "\n",
    "clust v1:\n",
    "\n",
    "$F_k(x) = \\|x - \\mu_k\\|^2_2, ~k=1..K$\n",
    "\n",
    "clust v2:\n",
    "\n",
    "$F_k(x) = k(x, x_I) - \\frac{2}{K} k(x, \\mu_k) $"
   ]
  },
  {
   "cell_type": "code",
   "execution_count": null,
   "metadata": {},
   "outputs": [],
   "source": []
  },
  {
   "cell_type": "markdown",
   "metadata": {},
   "source": [
    "| models   |   dumb |   cl |   cl_dis |   cl_v1 |   cl_v1_dis |   cl_v2 |   cl_v2_dis |   cl_v2_lin |   cl_v2_quad |   mmd |   mmd_dis |   mmd_lin |   mmd_lin_dis |   mmd_quad |   cmd |   cmd_dis |\n",
    "|:---------|-------:|-----:|---------:|--------:|------------:|--------:|------------:|------------:|-------------:|------:|----------:|----------:|--------------:|-----------:|------:|----------:|\n",
    "| mlp_wass |   0.32 | 0.22 |     0.32 |    0.24 |        0.42 |    0.24 |        0.2  |        1.8  |         0.24 |  0.32 |      0.32 |      0.38 |       0.64    |       0.37 |  0.25 |      0.24 |\n",
    "| mlp_js   |   0.63 | 0.34 |     0.44 |    0.8  |        0.4  |    0.33 |        0.35 |        0.51 |         0.33 |  0.67 |      0.68 |      0.65 |       0.75    |       0.62 |  0.42 |      0.67 |\n",
    "| mlp_ring |   2.8  | 2.8  |     2.8  |    2.0  |        1.5  |    2.3  |        2.6  |        2.7  |         2.5  |  2.8  |      2.8  |      2.8  |       1.7e+03 |       2.8  |  2.8  |      2.4  |"
   ]
  },
  {
   "cell_type": "markdown",
   "metadata": {},
   "source": [
    "| models   |   dumb |   cl |   cl_dis |   cl_v1 |   cl_v1_dis |   cl_v2 |   cl_v2_dis |   cl_v2_lin |   cl_v2_quad |   mmd |   mmd_dis |   mmd_lin |   mmd_lin_dis |   mmd_quad |   cmd |   cmd_dis |\n",
    "|:---------|-------:|-----:|---------:|--------:|------------:|--------:|------------:|------------:|-------------:|------:|----------:|----------:|--------------:|-----------:|------:|----------:|\n",
    "| mlp_wass |   0.32 | 0.22 |     0.31 |   0.85  |     3.4e+03 |    0.23 |        0.2  |        0.25 |         0.24 |  0.32 |      0.32 |      0.38 |       0.64    |       0.37 |  0.25 |      0.24 |\n",
    "| mlp_js   |   0.63 | 0.34 |     0.45 |   8e+02 |     4.3e+03 |    0.25 |        0.35 |        0.51 |         0.33 |  0.67 |      0.68 |      0.65 |       0.75    |       0.62 |  0.42 |      0.67 |\n",
    "| mlp_ring |   2.8  | 2.8  |     2.8  |   1.5   |     9.7e+03 |    2.3  |        2.6  |        2.7  |         2.5  |  2.8  |      2.8  |      2.8  |       1.7e+03 |       2.8  |  2.8  |      2.4  |"
   ]
  },
  {
   "cell_type": "markdown",
   "metadata": {},
   "source": [
    "| models   |   dumb |   cl |   cl_dis |   cl_v1 |   cl_v1_dis |   cl_v2 |   cl_v2_dis |   cl_v2_lin |   cl_v2_quad |   mmd |   mmd_dis |   mmd_lin |   mmd_lin_dis |   mmd_quad |   cmd |   cmd_dis |\n",
    "|:---------|-------:|-----:|---------:|--------:|------------:|--------:|------------:|------------:|-------------:|------:|----------:|----------:|--------------:|-----------:|------:|----------:|\n",
    "| mlp_wass |   0.32 | 0.23 |     0.35 |    0.25 |        0.64 |    0.25 |        0.2  |        0.25 |         0.24 |  0.32 |      0.32 |      0.38 |       0.64    |       0.37 |  0.25 |      0.24 |\n",
    "| mlp_js   |   0.63 | 0.32 |     0.46 |    0.41 |        0.43 |    0.48 |        0.35 |        0.51 |         0.33 |  0.67 |      0.68 |      0.65 |       0.75    |       0.62 |  0.42 |      0.67 |\n",
    "| mlp_ring |   2.8  | 2.8  |     2.8  |    2.8  |        2.6  |    2.8  |        2.6  |        2.7  |         2.5  |  2.8  |      2.8  |      2.8  |       1.7e+03 |       2.8  |  2.8  |      2.4  |"
   ]
  },
  {
   "cell_type": "markdown",
   "metadata": {},
   "source": []
  }
 ],
 "metadata": {
  "interpreter": {
   "hash": "178bca306e324e31c3a3b5ac5e68cbefb30375f47c6566422ac974db62a7a08a"
  },
  "kernelspec": {
   "display_name": "Python 3.8.12 ('soul4')",
   "language": "python",
   "name": "python3"
  },
  "language_info": {
   "codemirror_mode": {
    "name": "ipython",
    "version": 3
   },
   "file_extension": ".py",
   "mimetype": "text/x-python",
   "name": "python",
   "nbconvert_exporter": "python",
   "pygments_lexer": "ipython3",
   "version": "3.8.12"
  },
  "orig_nbformat": 4
 },
 "nbformat": 4,
 "nbformat_minor": 2
}
